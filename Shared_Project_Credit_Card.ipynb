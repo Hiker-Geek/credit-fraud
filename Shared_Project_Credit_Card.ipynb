{
  "nbformat": 4,
  "nbformat_minor": 0,
  "metadata": {
    "colab": {
      "name": "Shared Project-Credit Card.ipynb",
      "provenance": [],
      "collapsed_sections": []
    },
    "kernelspec": {
      "display_name": "Python 3",
      "name": "python3"
    },
    "language_info": {
      "name": "python"
    }
  },
  "cells": [
    {
      "cell_type": "markdown",
      "metadata": {
        "id": "ulm-qzCW2Oe5"
      },
      "source": [
        "#Importing datasets"
      ]
    },
    {
      "cell_type": "code",
      "metadata": {
        "id": "XJyiavbYJtQU"
      },
      "source": [
        "import numpy as np\n",
        "import pandas as pd # data processing, CSV file I/O (e.g. pd.read_csv)\n",
        "import sys\n",
        "import matplotlib.pyplot as plt\n",
        "import seaborn as sns\n",
        "import scipy\n",
        "import sklearn\n",
        "import string\n",
        "import keras\n"
      ],
      "execution_count": null,
      "outputs": []
    },
    {
      "cell_type": "code",
      "metadata": {
        "id": "ZUeD-uyUFkNx"
      },
      "source": [
        "!mkdir datasets"
      ],
      "execution_count": null,
      "outputs": []
    },
    {
      "cell_type": "code",
      "metadata": {
        "colab": {
          "base_uri": "https://localhost:8080/"
        },
        "id": "IrGWAZjCFAno",
        "outputId": "03c3338b-356e-4d4e-a304-b298d9e7096a"
      },
      "source": [
        "#Drop the 2 zip files to upload the unzip thru\n",
        "!unzip \"/content/creditcard.csv.zip\" -d datasets\n",
        "!unzip \"/content/fraudTest.csv.zip\" -d datasets"
      ],
      "execution_count": null,
      "outputs": [
        {
          "output_type": "stream",
          "name": "stdout",
          "text": [
            "Archive:  /content/creditcard.csv.zip\n",
            "  End-of-central-directory signature not found.  Either this file is not\n",
            "  a zipfile, or it constitutes one disk of a multi-part archive.  In the\n",
            "  latter case the central directory and zipfile comment will be found on\n",
            "  the last disk(s) of this archive.\n",
            "unzip:  cannot find zipfile directory in one of /content/creditcard.csv.zip or\n",
            "        /content/creditcard.csv.zip.zip, and cannot find /content/creditcard.csv.zip.ZIP, period.\n",
            "Archive:  /content/fraudTest.csv.zip\n",
            "  End-of-central-directory signature not found.  Either this file is not\n",
            "  a zipfile, or it constitutes one disk of a multi-part archive.  In the\n",
            "  latter case the central directory and zipfile comment will be found on\n",
            "  the last disk(s) of this archive.\n",
            "unzip:  cannot find zipfile directory in one of /content/fraudTest.csv.zip or\n",
            "        /content/fraudTest.csv.zip.zip, and cannot find /content/fraudTest.csv.zip.ZIP, period.\n"
          ]
        }
      ]
    },
    {
      "cell_type": "markdown",
      "metadata": {
        "id": "EssEpQYm2Gm2"
      },
      "source": [
        "#Dataset 1: creditcard.csv"
      ]
    },
    {
      "cell_type": "code",
      "metadata": {
        "colab": {
          "base_uri": "https://localhost:8080/"
        },
        "id": "U55s2keBGWER",
        "outputId": "b98f54cc-10a6-4d62-b02e-771c0e5f3249"
      },
      "source": [
        "#importing dataset2\n",
        "data2 = pd.read_csv('/content/datasets/creditcard.csv')\n",
        "\n",
        "#Exploring data\n",
        "print(data2.columns)\n",
        "\n",
        "data2.shape"
      ],
      "execution_count": null,
      "outputs": [
        {
          "output_type": "stream",
          "name": "stdout",
          "text": [
            "Index(['Time', 'V1', 'V2', 'V3', 'V4', 'V5', 'V6', 'V7', 'V8', 'V9', 'V10',\n",
            "       'V11', 'V12', 'V13', 'V14', 'V15', 'V16', 'V17', 'V18', 'V19', 'V20',\n",
            "       'V21', 'V22', 'V23', 'V24', 'V25', 'V26', 'V27', 'V28', 'Amount',\n",
            "       'Class'],\n",
            "      dtype='object')\n"
          ]
        },
        {
          "output_type": "execute_result",
          "data": {
            "text/plain": [
              "(284807, 31)"
            ]
          },
          "metadata": {},
          "execution_count": 9
        }
      ]
    },
    {
      "cell_type": "code",
      "metadata": {
        "colab": {
          "base_uri": "https://localhost:8080/"
        },
        "id": "WOVcz_NTLkD7",
        "outputId": "99ca6caa-fcf7-4f18-a1ed-4143464727be"
      },
      "source": [
        "print(data2.head())\n"
      ],
      "execution_count": null,
      "outputs": [
        {
          "output_type": "stream",
          "name": "stdout",
          "text": [
            "         V1        V2        V3        V4  ...       V27       V28  Amount  Class\n",
            "0 -1.359807 -0.072781  2.536347  1.378155  ...  0.133558 -0.021053  149.62      0\n",
            "1  1.191857  0.266151  0.166480  0.448154  ... -0.008983  0.014724    2.69      0\n",
            "2 -1.358354 -1.340163  1.773209  0.379780  ... -0.055353 -0.059752  378.66      0\n",
            "3 -0.966272 -0.185226  1.792993 -0.863291  ...  0.062723  0.061458  123.50      0\n",
            "4 -1.158233  0.877737  1.548718  0.403034  ...  0.219422  0.215153   69.99      0\n",
            "\n",
            "[5 rows x 30 columns]\n"
          ]
        }
      ]
    },
    {
      "cell_type": "code",
      "metadata": {
        "colab": {
          "base_uri": "https://localhost:8080/"
        },
        "id": "Qj7ikoFmLt7A",
        "outputId": "04c6011d-bdee-44a0-ffe9-be44e25d556d"
      },
      "source": [
        "#Drop Time coloumn\n",
        "data2.drop('Time', axis = 1, inplace = True)\n",
        "\n",
        "print(data2.head())"
      ],
      "execution_count": null,
      "outputs": [
        {
          "output_type": "stream",
          "name": "stdout",
          "text": [
            "         V1        V2        V3        V4  ...       V27       V28  Amount  Class\n",
            "0 -1.359807 -0.072781  2.536347  1.378155  ...  0.133558 -0.021053  149.62      0\n",
            "1  1.191857  0.266151  0.166480  0.448154  ... -0.008983  0.014724    2.69      0\n",
            "2 -1.358354 -1.340163  1.773209  0.379780  ... -0.055353 -0.059752  378.66      0\n",
            "3 -0.966272 -0.185226  1.792993 -0.863291  ...  0.062723  0.061458  123.50      0\n",
            "4 -1.158233  0.877737  1.548718  0.403034  ...  0.219422  0.215153   69.99      0\n",
            "\n",
            "[5 rows x 30 columns]\n"
          ]
        }
      ]
    },
    {
      "cell_type": "code",
      "metadata": {
        "colab": {
          "base_uri": "https://localhost:8080/",
          "height": 826
        },
        "id": "WrUKGXpyj6hl",
        "outputId": "06579354-d913-406b-923b-6727fa9c98e5"
      },
      "source": [
        "# plot histogram of each parameter\n",
        "data2.hist(figsize = (20, 20))\n",
        "plt.show()"
      ],
      "execution_count": null,
      "outputs": [
        {
          "output_type": "display_data",
          "data": {
            "image/png": "[encoded data removed]",
            "text/plain": [
              "<Figure size 1440x1440 with 30 Axes>"
            ]
          },
          "metadata": {
            "needs_background": "light"
          }
        }
      ]
    },
    {
      "cell_type": "code",
      "metadata": {
        "colab": {
          "base_uri": "https://localhost:8080/"
        },
        "id": "kA9iF2EfMMLX",
        "outputId": "3477b924-2677-48c9-ccb3-80aa91086620"
      },
      "source": [
        "cases = len(data2)\n",
        "nonfraud_cases = len(data2[data2.Class == 0])\n",
        "fraud_cases = len(data2[data2.Class == 1])\n",
        "fraud_percentage = round(fraud_cases/nonfraud_cases*100, 2)\n",
        "outlier_fraction = fraud_cases / float(cases)\n",
        "\n",
        "from termcolor import colored as cl # text customization\n",
        "print(cl('CASE COUNT', attrs = ['bold']))\n",
        "\n",
        "print('-----------------------------------')\n",
        "print('Total number of cases: {}'.format(cases))\n",
        "print('Number of Non-fraud cases: {}'.format(nonfraud_cases))\n",
        "print('Number of Fraud cases: {}'.format(fraud_cases))\n",
        "print('Percentage of fraud cases: {}'.format(fraud_percentage))\n",
        "print('------------------------------------')\n",
        "\n",
        "print('Outlier: {}'.format(outlier_fraction))\n",
        "print('------------------------------------')\n",
        "\n",
        "\n"
      ],
      "execution_count": null,
      "outputs": [
        {
          "output_type": "stream",
          "name": "stdout",
          "text": [
            "\u001b[1mCASE COUNT\u001b[0m\n",
            "-----------------------------------\n",
            "Total number of cases: 284807\n",
            "Number of Non-fraud cases: 284315\n",
            "Number of Fraud cases: 492\n",
            "Percentage of fraud cases: 0.17\n",
            "------------------------------------\n",
            "Outlier: 0.001727485630620034\n",
            "------------------------------------\n"
          ]
        }
      ]
    },
    {
      "cell_type": "code",
      "metadata": {
        "id": "xImyCx4GV0vu",
        "colab": {
          "base_uri": "https://localhost:8080/"
        },
        "outputId": "8e9a20c4-ff3c-46de-8680-5708e3a9875e"
      },
      "source": [
        "#Data split to Test and Train\n",
        "from sklearn.model_selection import train_test_split # data split\n",
        "\n",
        "X = data2.drop('Class', axis = 1).values # X includes everything except our class column\n",
        "Y = data2['Class'].values # Y includes all the class labels for each sample\n",
        "\n",
        "#Splitting dataset into 20% test and 80% train\n",
        "# random_state helps assure that you always get the same output when you split the data, helps create reproducible results \n",
        "X_train, X_test, Y_train, Y_test = train_test_split(X, Y, test_size = 0.2, random_state = 0)\n",
        "\n",
        "print(cl('X_train samples : ', attrs = ['bold']), X_train[:1])\n",
        "print(cl('X_test samples : ', attrs = ['bold']), X_test[0:1])\n",
        "print(cl('Y_train samples : ', attrs = ['bold']), Y_train[0:20])\n",
        "print(cl('Y_test samples : ', attrs = ['bold']), Y_test[0:20])"
      ],
      "execution_count": null,
      "outputs": [
        {
          "output_type": "stream",
          "name": "stdout",
          "text": [
            "\u001b[1mX_train samples : \u001b[0m [[-1.11504743e+00  1.03558276e+00  8.00712441e-01 -1.06039825e+00\n",
            "   3.26211690e-02  8.53422160e-01 -6.14243480e-01 -3.23116112e+00\n",
            "   1.53994798e+00 -8.16908791e-01 -1.30559201e+00  1.08177199e-01\n",
            "  -8.59609580e-01 -7.19342108e-02  9.06655628e-01 -1.72092961e+00\n",
            "   7.97853221e-01 -6.75939779e-03  1.95677806e+00 -6.44895565e-01\n",
            "   3.02038533e+00 -5.39617976e-01  3.31564886e-02 -7.74945766e-01\n",
            "   1.05867812e-01 -4.30853482e-01  2.29736936e-01 -7.05913036e-02\n",
            "   1.29500000e+01]]\n",
            "\u001b[1mX_test samples : \u001b[0m [[-3.23333572e-01  1.05745525e+00 -4.83411518e-02 -6.07204308e-01\n",
            "   1.25982115e+00 -9.17607168e-02  1.15910150e+00 -1.24334606e-01\n",
            "  -1.74639536e-01 -1.64440065e+00 -1.11886302e+00  2.02647310e-01\n",
            "   1.14596495e+00 -1.80235956e+00 -2.47177932e-01 -6.09453515e-02\n",
            "   8.46605738e-01  3.79454387e-01  8.47262245e-01  1.86409421e-01\n",
            "  -2.07098267e-01 -4.33890272e-01 -2.61613283e-01 -4.66506063e-02\n",
            "   2.11512300e-01  8.29721214e-03  1.08494430e-01  1.61139167e-01\n",
            "   4.00000000e+01]]\n",
            "\u001b[1mY_train samples : \u001b[0m [0 0 0 0 0 0 0 0 0 0 0 0 0 0 0 0 0 0 0 0]\n",
            "\u001b[1mY_test samples : \u001b[0m [0 0 0 0 0 0 0 0 0 0 0 0 0 0 0 0 0 0 0 0]\n"
          ]
        }
      ]
    },
    {
      "cell_type": "code",
      "metadata": {
        "id": "lPI1ttazoa9F",
        "colab": {
          "base_uri": "https://localhost:8080/"
        },
        "outputId": "722430ad-4b42-415b-950c-d04f31ecfb9a"
      },
      "source": [
        "from sklearn.preprocessing import StandardScaler # data normalization\n",
        "sc = StandardScaler()\n",
        "amount = data2['Amount'].values\n",
        "\n",
        "data2['Amount'] = sc.fit_transform(amount.reshape(-1, 1))\n",
        "\n",
        "print(cl(data2['Amount'].head(10), attrs = ['bold']))"
      ],
      "execution_count": null,
      "outputs": [
        {
          "output_type": "stream",
          "name": "stdout",
          "text": [
            "\u001b[1m0    0.244964\n",
            "1   -0.342475\n",
            "2    1.160686\n",
            "3    0.140534\n",
            "4   -0.073403\n",
            "5   -0.338556\n",
            "6   -0.333279\n",
            "7   -0.190107\n",
            "8    0.019392\n",
            "9   -0.338516\n",
            "Name: Amount, dtype: float64\u001b[0m\n"
          ]
        }
      ]
    },
    {
      "cell_type": "markdown",
      "metadata": {
        "id": "_-SIWon8wSRu"
      },
      "source": [
        "Classification algorithms"
      ]
    },
    {
      "cell_type": "code",
      "metadata": {
        "id": "U2J7LMxOI97F",
        "colab": {
          "base_uri": "https://localhost:8080/"
        },
        "outputId": "0cb260e5-e93e-40c7-8f65-dd80309e6d86"
      },
      "source": [
        "# Applying Classification Algorithms\n",
        "# 1. Decision Tree\n",
        "from sklearn.tree import DecisionTreeClassifier\n",
        "\n",
        "tree_model = DecisionTreeClassifier(max_depth = 4, criterion = 'entropy')\n",
        "tree_model.fit(X_train, Y_train)\n",
        "tree_Yhat = tree_model.predict(X_test)\n",
        "\n",
        "print(tree_Yhat)\n",
        "\n",
        "\n"
      ],
      "execution_count": null,
      "outputs": [
        {
          "output_type": "stream",
          "name": "stdout",
          "text": [
            "[0 0 0 ... 0 0 0]\n"
          ]
        }
      ]
    },
    {
      "cell_type": "code",
      "metadata": {
        "id": "vw0XK5pVqRLw"
      },
      "source": [
        "# 2. K-Nearest Neighbors\n",
        "from sklearn.neighbors import KNeighborsClassifier\n",
        "\n",
        "n = 10\n",
        "\n",
        "knn = KNeighborsClassifier(n_neighbors = n)\n",
        "knn.fit(X_train, Y_train)\n",
        "knn_Yhat = knn.predict(X_test)\n"
      ],
      "execution_count": null,
      "outputs": []
    },
    {
      "cell_type": "code",
      "metadata": {
        "id": "ir7cXLpGqciR"
      },
      "source": [
        "# 3. Logistic Regression\n",
        "from sklearn.linear_model import LogisticRegression \n",
        "\n",
        "lr = LogisticRegression(max_iter=10000)\n",
        "lr.fit(X_train, Y_train)\n",
        "lr_Yhat = lr.predict(X_test)\n"
      ],
      "execution_count": null,
      "outputs": []
    },
    {
      "cell_type": "code",
      "metadata": {
        "id": "t_Twgv6LqfQ1"
      },
      "source": [
        "# 4. SVM\n",
        "from sklearn.svm import SVC \n",
        "\n",
        "svm = SVC()\n",
        "svm.fit(X_train, Y_train)\n",
        "svm_Yhat = svm.predict(X_test)"
      ],
      "execution_count": null,
      "outputs": []
    },
    {
      "cell_type": "markdown",
      "metadata": {
        "id": "Uc0e22S9wW04"
      },
      "source": [
        "Neural Networks"
      ]
    },
    {
      "cell_type": "code",
      "metadata": {
        "colab": {
          "base_uri": "https://localhost:8080/"
        },
        "id": "Fmv7lyRHwaHU",
        "outputId": "bcb0294b-7ebe-4bbd-ae86-b1d8346a4a2f"
      },
      "source": [
        "#Deep neural network\n",
        "from keras.models import Sequential\n",
        "from keras.layers import Dense\n",
        "from keras.layers import Dropout\n",
        "\n",
        "DNN = Sequential([\n",
        "Dense(input_dim = 29, units = 16, activation = 'relu'),\n",
        "Dense(units = 24, activation = 'relu'),\n",
        "Dropout(0.5),\n",
        "Dense(units = 20, activation = 'relu'),\n",
        "Dense(units = 24, activation = 'relu'),\n",
        "Dense(units =1, activation = 'sigmoid'),])\n",
        "\n",
        "DNN.compile(optimizer='adam', loss='binary_crossentropy', metrics=['accuracy'])\n",
        "DNN.fit(X_train, Y_train, batch_size=15, epochs=5)\n",
        "\n",
        "#Neural Network Accuracy\n",
        "DNN_Yhat = (DNN.predict(X_test) > 0.5).astype(\"int32\")"
      ],
      "execution_count": null,
      "outputs": [
        {
          "output_type": "stream",
          "name": "stdout",
          "text": [
            "Epoch 1/5\n",
            "15190/15190 [==============================] - 46s 3ms/step - loss: 0.0271 - accuracy: 0.9983\n",
            "Epoch 2/5\n",
            "15190/15190 [==============================] - 41s 3ms/step - loss: 0.0070 - accuracy: 0.9990\n",
            "Epoch 3/5\n",
            "15190/15190 [==============================] - 53s 3ms/step - loss: 0.0060 - accuracy: 0.9991\n",
            "Epoch 4/5\n",
            "15190/15190 [==============================] - 51s 3ms/step - loss: 0.0064 - accuracy: 0.9992\n",
            "Epoch 5/5\n",
            "15190/15190 [==============================] - 38s 2ms/step - loss: 0.0058 - accuracy: 0.9992\n"
          ]
        },
        {
          "output_type": "execute_result",
          "data": {
            "text/plain": [
              "<keras.callbacks.History at 0x7f83f3845410>"
            ]
          },
          "metadata": {},
          "execution_count": 21
        }
      ]
    },
    {
      "cell_type": "markdown",
      "metadata": {
        "id": "vzpUBLXImX_J"
      },
      "source": [
        "Calculate Evaluation metric for each implemented model"
      ]
    },
    {
      "cell_type": "code",
      "metadata": {
        "id": "qEU1Zfg-zO7U",
        "colab": {
          "base_uri": "https://localhost:8080/"
        },
        "outputId": "4ed61e79-8112-4c47-fac3-373857b1f857"
      },
      "source": [
        "# Accuracy score = No.of correct predictions / Total no.of predictions\n",
        "from sklearn.metrics import accuracy_score\n",
        "print(cl('ACCURACY SCORE', attrs = ['bold']))\n",
        "print('--------------------------------------------------------------')\n",
        "print('Decision tree model accuracy is {}'.format(accuracy_score(Y_test, tree_Yhat)))\n",
        "print('KNN model accuracy is {}'.format(accuracy_score(Y_test, knn_Yhat)))\n",
        "print(\"Logistic Regression model accuracy is {}\".format(accuracy_score(Y_test, lr_Yhat)))\n",
        "print('SVM model accuracy is {}'.format(accuracy_score(Y_test, svm_Yhat)))\n",
        "print('Deep Neural Network model accuracy is {}'.format(accuracy_score(Y_test, DNN_Yhat)))"
      ],
      "execution_count": null,
      "outputs": [
        {
          "output_type": "stream",
          "name": "stdout",
          "text": [
            "\u001b[1mACCURACY SCORE\u001b[0m\n",
            "--------------------------------------------------------------\n",
            "Decision tree model accuracy is 0.9993679997191109\n",
            "KNN model accuracy is 0.9992451107756047\n",
            "Logistic Regression model accuracy is 0.9991924440855307\n",
            "SVM model accuracy is 0.998735999438222\n",
            "Deep Neural Network model accuracy is 0.9993328885923949\n"
          ]
        }
      ]
    },
    {
      "cell_type": "code",
      "metadata": {
        "colab": {
          "base_uri": "https://localhost:8080/"
        },
        "id": "WZQfmXakpJNq",
        "outputId": "978125d5-b538-4e7e-a7fa-26068ab6c3d3"
      },
      "source": [
        "#precision score\n",
        "from sklearn.metrics import precision_score\n",
        "print(cl('PRECISION SCORE', attrs = ['bold']))\n",
        "print('--------------------------------------------------------------')\n",
        "print('Decision tree model precision score is {}'.format(precision_score(Y_test, tree_Yhat)))\n",
        "print('KNN model precision score is {}'.format(precision_score(Y_test, knn_Yhat)))\n",
        "print('Logistic Regression model precision score is {}'.format(precision_score(Y_test, lr_Yhat)))\n",
        "print('SVM model precision score is {}'.format(precision_score(Y_test, svm_Yhat)))\n",
        "print('Deep Neural Network model precision score is {}'.format(precision_score(Y_test, DNN_Yhat)))\n"
      ],
      "execution_count": null,
      "outputs": [
        {
          "output_type": "stream",
          "name": "stdout",
          "text": [
            "\u001b[1mPRECISION SCORE\u001b[0m\n",
            "--------------------------------------------------------------\n",
            "Decision tree model precision score is 0.8651685393258427\n",
            "KNN model precision score is 0.9142857142857143\n",
            "Logistic Regression model precision score is 0.8767123287671232\n",
            "SVM model precision score is 0.8372093023255814\n",
            "Deep Neural Network model precision score is 0.8058252427184466\n"
          ]
        }
      ]
    },
    {
      "cell_type": "code",
      "metadata": {
        "colab": {
          "base_uri": "https://localhost:8080/"
        },
        "id": "iZ7GFYN9r8A5",
        "outputId": "1aaab288-a8d9-43f6-8867-77e2f6a05580"
      },
      "source": [
        "#recall score\n",
        "from sklearn.metrics import recall_score\n",
        "print(cl('RECALL SCORE', attrs = ['bold']))\n",
        "print('--------------------------------------------------------------')\n",
        "print('Decision tree recall is {}'.format(recall_score(Y_test, tree_Yhat)))\n",
        "print('KNN model recall is {}'.format(recall_score(Y_test, knn_Yhat)))\n",
        "print('Logistic Regression model recall is {}'.format(recall_score(Y_test, lr_Yhat)))\n",
        "print('SVM model recall is {}'.format(recall_score(Y_test, svm_Yhat)))\n",
        "print('Deep Neural Network model recall is {}'.format(recall_score(Y_test, DNN_Yhat)))"
      ],
      "execution_count": null,
      "outputs": [
        {
          "output_type": "stream",
          "name": "stdout",
          "text": [
            "\u001b[1mRECALL SCORE\u001b[0m\n",
            "--------------------------------------------------------------\n",
            "Decision tree recall is 0.7623762376237624\n",
            "KNN model recall is 0.6336633663366337\n",
            "Logistic Regression model recall is 0.6336633663366337\n",
            "SVM model recall is 0.3564356435643564\n",
            "Deep Neural Network model recall is 0.8217821782178217\n"
          ]
        }
      ]
    },
    {
      "cell_type": "code",
      "metadata": {
        "id": "G8OV5EXS0yZj",
        "colab": {
          "base_uri": "https://localhost:8080/"
        },
        "outputId": "b2f9c3b0-c70e-4b34-b4e7-be8dc2e608f0"
      },
      "source": [
        "# F1 score = 2( (precision * recall) / (precision + recall) )\n",
        "from sklearn.metrics import f1_score\n",
        "print(cl('F1 SCORE', attrs = ['bold']))\n",
        "print('--------------------------------------------------------------')\n",
        "print('Decision tree f1 score is {}'.format(f1_score(Y_test, tree_Yhat)))\n",
        "print('KNN model f1 score is {}'.format(f1_score(Y_test, knn_Yhat)))\n",
        "print('Logistic Regression model f1 score is {}'.format(f1_score(Y_test, lr_Yhat)))\n",
        "print('SVM model f1 score is {}'.format(f1_score(Y_test, svm_Yhat)))\n",
        "print('Deep Neural Network model f1 score is {}'.format(f1_score(Y_test, DNN_Yhat)))"
      ],
      "execution_count": null,
      "outputs": [
        {
          "output_type": "stream",
          "name": "stdout",
          "text": [
            "\u001b[1mF1 SCORE\u001b[0m\n",
            "--------------------------------------------------------------\n",
            "Decision tree f1 score is 0.8105263157894738\n",
            "KNN model f1 score is 0.7485380116959064\n",
            "Logistic Regression model f1 score is 0.7356321839080459\n",
            "SVM model f1 score is 0.5\n",
            "Deep Neural Network model f1 score is 0.8137254901960784\n"
          ]
        }
      ]
    },
    {
      "cell_type": "markdown",
      "metadata": {
        "id": "SZKa0NGEc1oz"
      },
      "source": [
        "# Dataset 2: fraudTest.csv \n",
        "(split off from a dataset too large to work with)"
      ]
    },
    {
      "cell_type": "code",
      "metadata": {
        "colab": {
          "base_uri": "https://localhost:8080/"
        },
        "id": "h-eqRh6vbRLk",
        "outputId": "5303c8d4-7d63-43a4-dc83-c2dcc85536fc"
      },
      "source": [
        "#importing dataset3\n",
        "data3 = pd.read_csv('/content/datasets/fraudTest.csv')\n",
        "\n",
        "#Exploring data\n",
        "print(data3.columns)\n",
        "\n",
        "data3.shape"
      ],
      "execution_count": null,
      "outputs": [
        {
          "output_type": "stream",
          "name": "stdout",
          "text": [
            "Index(['Unnamed: 0', 'trans_date_trans_time', 'cc_num', 'merchant', 'category',\n",
            "       'amt', 'first', 'last', 'gender', 'street', 'city', 'state', 'zip',\n",
            "       'lat', 'long', 'city_pop', 'job', 'dob', 'trans_num', 'unix_time',\n",
            "       'merch_lat', 'merch_long', 'is_fraud'],\n",
            "      dtype='object')\n"
          ]
        },
        {
          "output_type": "execute_result",
          "data": {
            "text/plain": [
              "(555719, 23)"
            ]
          },
          "metadata": {},
          "execution_count": 50
        }
      ]
    },
    {
      "cell_type": "code",
      "metadata": {
        "colab": {
          "base_uri": "https://localhost:8080/"
        },
        "id": "v3fvZALEccus",
        "outputId": "2d02400a-d6cb-4408-abd7-6b289f5bc156"
      },
      "source": [
        "print(data3.head())"
      ],
      "execution_count": null,
      "outputs": [
        {
          "output_type": "stream",
          "name": "stdout",
          "text": [
            "   Unnamed: 0 trans_date_trans_time  ...  merch_long is_fraud\n",
            "0           0   2020-06-21 12:14:25  ...  -81.200714        0\n",
            "1           1   2020-06-21 12:14:33  ... -109.960431        0\n",
            "2           2   2020-06-21 12:14:53  ...  -74.196111        0\n",
            "3           3   2020-06-21 12:15:15  ...  -80.883061        0\n",
            "4           4   2020-06-21 12:15:17  ...  -85.884734        0\n",
            "\n",
            "[5 rows x 23 columns]\n"
          ]
        }
      ]
    },
    {
      "cell_type": "code",
      "metadata": {
        "colab": {
          "base_uri": "https://localhost:8080/",
          "height": 826
        },
        "id": "e7SSxdnjdv7V",
        "outputId": "9426877d-e132-4284-8309-89101782864a"
      },
      "source": [
        "# plot histogram of each parameter\n",
        "data3.hist(figsize = (20, 20))\n",
        "plt.show()"
      ],
      "execution_count": null,
      "outputs": [
        {
          "output_type": "display_data",
          "data": {
            "image/png": "[encoded data removed]",
            "text/plain": [
              "<Figure size 1440x1440 with 12 Axes>"
            ]
          },
          "metadata": {
            "needs_background": "light"
          }
        }
      ]
    },
    {
      "cell_type": "code",
      "metadata": {
        "colab": {
          "base_uri": "https://localhost:8080/"
        },
        "id": "1bhR2OtLeYYk",
        "outputId": "ee2aedb9-3dfa-4a5f-bf5c-345f30e92242"
      },
      "source": [
        "cases = len(data3)\n",
        "nonfraud_cases = len(data3[data3.is_fraud == 0])\n",
        "fraud_cases = len(data3[data3.is_fraud == 1])\n",
        "fraud_percentage = round(fraud_cases/nonfraud_cases*100, 2)\n",
        "outlier_fraction = fraud_cases / float(cases)\n",
        "\n",
        "from termcolor import colored as cl # text customization\n",
        "print(cl('CASE COUNT', attrs = ['bold']))\n",
        "\n",
        "print('-----------------------------------')\n",
        "print('Total number of cases: {}'.format(cases))\n",
        "print('Number of Non-fraud cases: {}'.format(nonfraud_cases))\n",
        "print('Number of Fraud cases: {}'.format(fraud_cases))\n",
        "print('Percentage of fraud cases: {}'.format(fraud_percentage))\n",
        "print('------------------------------------')\n",
        "\n",
        "print('Outlier: {}'.format(outlier_fraction))\n",
        "print('------------------------------------')\n"
      ],
      "execution_count": null,
      "outputs": [
        {
          "output_type": "stream",
          "name": "stdout",
          "text": [
            "\u001b[1mCASE COUNT\u001b[0m\n",
            "-----------------------------------\n",
            "Total number of cases: 555719\n",
            "Number of Non-fraud cases: 553574\n",
            "Number of Fraud cases: 2145\n",
            "Percentage of fraud cases: 0.39\n",
            "------------------------------------\n",
            "Outlier: 0.0038598644278853163\n",
            "------------------------------------\n"
          ]
        }
      ]
    },
    {
      "cell_type": "code",
      "metadata": {
        "colab": {
          "base_uri": "https://localhost:8080/"
        },
        "id": "p0xi4zjce3wD",
        "outputId": "004b3f04-f958-44a5-ce4e-8a22221b474b"
      },
      "source": [
        "#Data split to Test and Train\n",
        "from sklearn.model_selection import train_test_split # data split\n",
        "\n",
        "X = data3.drop('is_fraud', axis = 1).values # X includes everything except our class column\n",
        "Y = data3['is_fraud'].values # Y includes all the class labels for each sample\n",
        "\n",
        "#Splitting dataset into 20% test and 80% train\n",
        "# random_state helps assure that you always get the same output when you split the data, helps create reproducible results \n",
        "X_train, X_test, Y_train, Y_test = train_test_split(X, Y, test_size = 0.2, random_state = 0)\n",
        "\n",
        "print(cl('X_train samples : ', attrs = ['bold']), X_train[:1])\n",
        "print(cl('X_test samples : ', attrs = ['bold']), X_test[0:1])\n",
        "print(cl('Y_train samples : ', attrs = ['bold']), Y_train[0:20])\n",
        "print(cl('Y_test samples : ', attrs = ['bold']), Y_test[0:20])"
      ],
      "execution_count": null,
      "outputs": [
        {
          "output_type": "stream",
          "name": "stdout",
          "text": [
            "\u001b[1mX_train samples : \u001b[0m [[427945 '2020-12-03 19:57:19' 4129767952109660 'fraud_Hilpert-Conroy'\n",
            "  'kids_pets' 77.05 'Cheryl' 'Ballard' 'F' '248 James Squares Apt. 838'\n",
            "  'Halstad' 'MN' 56548 47.3551 -96.798 771 'Scientist, audiological'\n",
            "  '1972-06-14' '104c675dde4d51cc2fcba2e489920f76' 1386100639 47.45382\n",
            "  -96.779004]]\n",
            "\u001b[1mX_test samples : \u001b[0m [[102051 '2020-07-27 01:15:09' 4789911625179723 'fraud_Heidenreich PLC'\n",
            "  'grocery_pos' 218.76 'Dorothy' 'Zuniga' 'F' '77321 Ford Via' 'Moriches'\n",
            "  'NY' 11955 40.8095 -72.8229 3285 'Research officer, trade union'\n",
            "  '1988-04-27' 'c628b8cb043efb046bbae2b80949f62a' 1374887709\n",
            "  40.15368400000001 -73.445235]]\n",
            "\u001b[1mY_train samples : \u001b[0m [0 0 0 0 0 0 0 0 0 0 0 1 0 0 0 0 0 0 0 0]\n",
            "\u001b[1mY_test samples : \u001b[0m [0 0 0 0 0 0 0 0 0 0 0 0 0 0 0 0 0 0 0 0]\n"
          ]
        }
      ]
    },
    {
      "cell_type": "code",
      "metadata": {
        "id": "y2vmT0VXEAni"
      },
      "source": [
        "from sklearn import preprocessing\n",
        "from sklearn.preprocessing import StandardScaler # data normalization\n",
        "\n",
        "le = preprocessing.LabelEncoder()\n",
        "h\n",
        "sc = StandardScaler()\n",
        "amount = data2['Amount'].values\n",
        "\n",
        "data2['Amount'] = sc.fit_transform(amount.reshape(-1, 1))\n",
        "\n",
        "print(cl(data2['Amount'].head(10), attrs = ['bold']))"
      ],
      "execution_count": null,
      "outputs": []
    },
    {
      "cell_type": "code",
      "metadata": {
        "id": "wGbuuXz_F9sS",
        "colab": {
          "base_uri": "https://localhost:8080/",
          "height": 357
        },
        "outputId": "a31bd8b8-9838-4fd6-8496-134f6386a7c7"
      },
      "source": [
        "# Applying Classification Algorithms\n",
        "# 1. Decision Tree\n",
        "from sklearn.tree import DecisionTreeClassifier\n",
        "\n",
        "tree_model = DecisionTreeClassifier(max_depth = 4, criterion = 'entropy')\n",
        "tree_model.fit(X_train, Y_train)\n",
        "tree_Yhat = tree_model.predict(X_test)"
      ],
      "execution_count": null,
      "outputs": [
        {
          "output_type": "error",
          "ename": "ValueError",
          "evalue": "ignored",
          "traceback": [
            "\u001b[0;31m---------------------------------------------------------------------------\u001b[0m",
            "\u001b[0;31mValueError\u001b[0m                                Traceback (most recent call last)",
            "\u001b[0;32m<ipython-input-58-721bb40b0f70>\u001b[0m in \u001b[0;36m<module>\u001b[0;34m()\u001b[0m\n\u001b[1;32m      4\u001b[0m \u001b[0;34m\u001b[0m\u001b[0m\n\u001b[1;32m      5\u001b[0m \u001b[0mtree_model\u001b[0m \u001b[0;34m=\u001b[0m \u001b[0mDecisionTreeClassifier\u001b[0m\u001b[0;34m(\u001b[0m\u001b[0mmax_depth\u001b[0m \u001b[0;34m=\u001b[0m \u001b[0;36m4\u001b[0m\u001b[0;34m,\u001b[0m \u001b[0mcriterion\u001b[0m \u001b[0;34m=\u001b[0m \u001b[0;34m'entropy'\u001b[0m\u001b[0;34m)\u001b[0m\u001b[0;34m\u001b[0m\u001b[0;34m\u001b[0m\u001b[0m\n\u001b[0;32m----> 6\u001b[0;31m \u001b[0mtree_model\u001b[0m\u001b[0;34m.\u001b[0m\u001b[0mfit\u001b[0m\u001b[0;34m(\u001b[0m\u001b[0mX_train\u001b[0m\u001b[0;34m,\u001b[0m \u001b[0mY_train\u001b[0m\u001b[0;34m)\u001b[0m\u001b[0;34m\u001b[0m\u001b[0;34m\u001b[0m\u001b[0m\n\u001b[0m\u001b[1;32m      7\u001b[0m \u001b[0mtree_Yhat\u001b[0m \u001b[0;34m=\u001b[0m \u001b[0mtree_model\u001b[0m\u001b[0;34m.\u001b[0m\u001b[0mpredict\u001b[0m\u001b[0;34m(\u001b[0m\u001b[0mX_test\u001b[0m\u001b[0;34m)\u001b[0m\u001b[0;34m\u001b[0m\u001b[0;34m\u001b[0m\u001b[0m\n",
            "\u001b[0;32m/usr/local/lib/python3.7/dist-packages/sklearn/tree/_classes.py\u001b[0m in \u001b[0;36mfit\u001b[0;34m(self, X, y, sample_weight, check_input, X_idx_sorted)\u001b[0m\n\u001b[1;32m    940\u001b[0m             \u001b[0msample_weight\u001b[0m\u001b[0;34m=\u001b[0m\u001b[0msample_weight\u001b[0m\u001b[0;34m,\u001b[0m\u001b[0;34m\u001b[0m\u001b[0;34m\u001b[0m\u001b[0m\n\u001b[1;32m    941\u001b[0m             \u001b[0mcheck_input\u001b[0m\u001b[0;34m=\u001b[0m\u001b[0mcheck_input\u001b[0m\u001b[0;34m,\u001b[0m\u001b[0;34m\u001b[0m\u001b[0;34m\u001b[0m\u001b[0m\n\u001b[0;32m--> 942\u001b[0;31m             \u001b[0mX_idx_sorted\u001b[0m\u001b[0;34m=\u001b[0m\u001b[0mX_idx_sorted\u001b[0m\u001b[0;34m,\u001b[0m\u001b[0;34m\u001b[0m\u001b[0;34m\u001b[0m\u001b[0m\n\u001b[0m\u001b[1;32m    943\u001b[0m         )\n\u001b[1;32m    944\u001b[0m         \u001b[0;32mreturn\u001b[0m \u001b[0mself\u001b[0m\u001b[0;34m\u001b[0m\u001b[0;34m\u001b[0m\u001b[0m\n",
            "\u001b[0;32m/usr/local/lib/python3.7/dist-packages/sklearn/tree/_classes.py\u001b[0m in \u001b[0;36mfit\u001b[0;34m(self, X, y, sample_weight, check_input, X_idx_sorted)\u001b[0m\n\u001b[1;32m    164\u001b[0m             \u001b[0mcheck_y_params\u001b[0m \u001b[0;34m=\u001b[0m \u001b[0mdict\u001b[0m\u001b[0;34m(\u001b[0m\u001b[0mensure_2d\u001b[0m\u001b[0;34m=\u001b[0m\u001b[0;32mFalse\u001b[0m\u001b[0;34m,\u001b[0m \u001b[0mdtype\u001b[0m\u001b[0;34m=\u001b[0m\u001b[0;32mNone\u001b[0m\u001b[0;34m)\u001b[0m\u001b[0;34m\u001b[0m\u001b[0;34m\u001b[0m\u001b[0m\n\u001b[1;32m    165\u001b[0m             X, y = self._validate_data(\n\u001b[0;32m--> 166\u001b[0;31m                 \u001b[0mX\u001b[0m\u001b[0;34m,\u001b[0m \u001b[0my\u001b[0m\u001b[0;34m,\u001b[0m \u001b[0mvalidate_separately\u001b[0m\u001b[0;34m=\u001b[0m\u001b[0;34m(\u001b[0m\u001b[0mcheck_X_params\u001b[0m\u001b[0;34m,\u001b[0m \u001b[0mcheck_y_params\u001b[0m\u001b[0;34m)\u001b[0m\u001b[0;34m\u001b[0m\u001b[0;34m\u001b[0m\u001b[0m\n\u001b[0m\u001b[1;32m    167\u001b[0m             )\n\u001b[1;32m    168\u001b[0m             \u001b[0;32mif\u001b[0m \u001b[0missparse\u001b[0m\u001b[0;34m(\u001b[0m\u001b[0mX\u001b[0m\u001b[0;34m)\u001b[0m\u001b[0;34m:\u001b[0m\u001b[0;34m\u001b[0m\u001b[0;34m\u001b[0m\u001b[0m\n",
            "\u001b[0;32m/usr/local/lib/python3.7/dist-packages/sklearn/base.py\u001b[0m in \u001b[0;36m_validate_data\u001b[0;34m(self, X, y, reset, validate_separately, **check_params)\u001b[0m\n\u001b[1;32m    571\u001b[0m                 \u001b[0;31m# :(\u001b[0m\u001b[0;34m\u001b[0m\u001b[0;34m\u001b[0m\u001b[0;34m\u001b[0m\u001b[0m\n\u001b[1;32m    572\u001b[0m                 \u001b[0mcheck_X_params\u001b[0m\u001b[0;34m,\u001b[0m \u001b[0mcheck_y_params\u001b[0m \u001b[0;34m=\u001b[0m \u001b[0mvalidate_separately\u001b[0m\u001b[0;34m\u001b[0m\u001b[0;34m\u001b[0m\u001b[0m\n\u001b[0;32m--> 573\u001b[0;31m                 \u001b[0mX\u001b[0m \u001b[0;34m=\u001b[0m \u001b[0mcheck_array\u001b[0m\u001b[0;34m(\u001b[0m\u001b[0mX\u001b[0m\u001b[0;34m,\u001b[0m \u001b[0;34m**\u001b[0m\u001b[0mcheck_X_params\u001b[0m\u001b[0;34m)\u001b[0m\u001b[0;34m\u001b[0m\u001b[0;34m\u001b[0m\u001b[0m\n\u001b[0m\u001b[1;32m    574\u001b[0m                 \u001b[0my\u001b[0m \u001b[0;34m=\u001b[0m \u001b[0mcheck_array\u001b[0m\u001b[0;34m(\u001b[0m\u001b[0my\u001b[0m\u001b[0;34m,\u001b[0m \u001b[0;34m**\u001b[0m\u001b[0mcheck_y_params\u001b[0m\u001b[0;34m)\u001b[0m\u001b[0;34m\u001b[0m\u001b[0;34m\u001b[0m\u001b[0m\n\u001b[1;32m    575\u001b[0m             \u001b[0;32melse\u001b[0m\u001b[0;34m:\u001b[0m\u001b[0;34m\u001b[0m\u001b[0;34m\u001b[0m\u001b[0m\n",
            "\u001b[0;32m/usr/local/lib/python3.7/dist-packages/sklearn/utils/validation.py\u001b[0m in \u001b[0;36mcheck_array\u001b[0;34m(array, accept_sparse, accept_large_sparse, dtype, order, copy, force_all_finite, ensure_2d, allow_nd, ensure_min_samples, ensure_min_features, estimator)\u001b[0m\n\u001b[1;32m    736\u001b[0m                     \u001b[0marray\u001b[0m \u001b[0;34m=\u001b[0m \u001b[0marray\u001b[0m\u001b[0;34m.\u001b[0m\u001b[0mastype\u001b[0m\u001b[0;34m(\u001b[0m\u001b[0mdtype\u001b[0m\u001b[0;34m,\u001b[0m \u001b[0mcasting\u001b[0m\u001b[0;34m=\u001b[0m\u001b[0;34m\"unsafe\"\u001b[0m\u001b[0;34m,\u001b[0m \u001b[0mcopy\u001b[0m\u001b[0;34m=\u001b[0m\u001b[0;32mFalse\u001b[0m\u001b[0;34m)\u001b[0m\u001b[0;34m\u001b[0m\u001b[0;34m\u001b[0m\u001b[0m\n\u001b[1;32m    737\u001b[0m                 \u001b[0;32melse\u001b[0m\u001b[0;34m:\u001b[0m\u001b[0;34m\u001b[0m\u001b[0;34m\u001b[0m\u001b[0m\n\u001b[0;32m--> 738\u001b[0;31m                     \u001b[0marray\u001b[0m \u001b[0;34m=\u001b[0m \u001b[0mnp\u001b[0m\u001b[0;34m.\u001b[0m\u001b[0masarray\u001b[0m\u001b[0;34m(\u001b[0m\u001b[0marray\u001b[0m\u001b[0;34m,\u001b[0m \u001b[0morder\u001b[0m\u001b[0;34m=\u001b[0m\u001b[0morder\u001b[0m\u001b[0;34m,\u001b[0m \u001b[0mdtype\u001b[0m\u001b[0;34m=\u001b[0m\u001b[0mdtype\u001b[0m\u001b[0;34m)\u001b[0m\u001b[0;34m\u001b[0m\u001b[0;34m\u001b[0m\u001b[0m\n\u001b[0m\u001b[1;32m    739\u001b[0m             \u001b[0;32mexcept\u001b[0m \u001b[0mComplexWarning\u001b[0m \u001b[0;32mas\u001b[0m \u001b[0mcomplex_warning\u001b[0m\u001b[0;34m:\u001b[0m\u001b[0;34m\u001b[0m\u001b[0;34m\u001b[0m\u001b[0m\n\u001b[1;32m    740\u001b[0m                 raise ValueError(\n",
            "\u001b[0;32m/usr/local/lib/python3.7/dist-packages/numpy/core/_asarray.py\u001b[0m in \u001b[0;36masarray\u001b[0;34m(a, dtype, order)\u001b[0m\n\u001b[1;32m     81\u001b[0m \u001b[0;34m\u001b[0m\u001b[0m\n\u001b[1;32m     82\u001b[0m     \"\"\"\n\u001b[0;32m---> 83\u001b[0;31m     \u001b[0;32mreturn\u001b[0m \u001b[0marray\u001b[0m\u001b[0;34m(\u001b[0m\u001b[0ma\u001b[0m\u001b[0;34m,\u001b[0m \u001b[0mdtype\u001b[0m\u001b[0;34m,\u001b[0m \u001b[0mcopy\u001b[0m\u001b[0;34m=\u001b[0m\u001b[0;32mFalse\u001b[0m\u001b[0;34m,\u001b[0m \u001b[0morder\u001b[0m\u001b[0;34m=\u001b[0m\u001b[0morder\u001b[0m\u001b[0;34m)\u001b[0m\u001b[0;34m\u001b[0m\u001b[0;34m\u001b[0m\u001b[0m\n\u001b[0m\u001b[1;32m     84\u001b[0m \u001b[0;34m\u001b[0m\u001b[0m\n\u001b[1;32m     85\u001b[0m \u001b[0;34m\u001b[0m\u001b[0m\n",
            "\u001b[0;31mValueError\u001b[0m: could not convert string to float: '2020-12-03 19:57:19'"
          ]
        }
      ]
    },
    {
      "cell_type": "code",
      "metadata": {
        "id": "y4j7lx8qF-hP"
      },
      "source": [
        "# 2. K-Nearest Neighbors\n",
        "from sklearn.neighbors import KNeighborsClassifier\n",
        "\n",
        "n = 10\n",
        "\n",
        "knn = KNeighborsClassifier(n_neighbors = n)\n",
        "knn.fit(X_train, Y_train)\n",
        "knn_Yhat = knn.predict(X_test)"
      ],
      "execution_count": null,
      "outputs": []
    },
    {
      "cell_type": "code",
      "metadata": {
        "id": "772W7qKqGQiw"
      },
      "source": [
        "# 3. Logistic Regression\n",
        "from sklearn.linear_model import LogisticRegression \n",
        "\n",
        "lr = LogisticRegression(max_iter=10000)\n",
        "lr.fit(X_train, Y_train)\n",
        "lr_Yhat = lr.predict(X_test)"
      ],
      "execution_count": null,
      "outputs": []
    },
    {
      "cell_type": "code",
      "metadata": {
        "id": "4K_pNg4dGTWV"
      },
      "source": [
        "# 4. SVM\n",
        "from sklearn.svm import SVC \n",
        "\n",
        "svm = SVC()\n",
        "svm.fit(X_train, Y_train)\n",
        "svm_Yhat = svm.predict(X_test)"
      ],
      "execution_count": null,
      "outputs": []
    },
    {
      "cell_type": "code",
      "metadata": {
        "id": "-jBnbv1-7Uux"
      },
      "source": [
        "#Deep neural network\n",
        "from keras.models import Sequential\n",
        "from keras.layers import Dense\n",
        "from keras.layers import Dropout\n",
        "\n",
        "DNN = Sequential([\n",
        "Dense(input_dim = 29, units = 16, activation = 'relu'),\n",
        "Dense(units = 24, activation = 'relu'),\n",
        "Dropout(0.5),\n",
        "Dense(units = 20, activation = 'relu'),\n",
        "Dense(units = 24, activation = 'relu'),\n",
        "Dense(units =1, activation = 'sigmoid'),])\n",
        "\n",
        "DNN.compile(optimizer='adam', loss='binary_crossentropy', metrics=['accuracy'])\n",
        "DNN.fit(X_train, Y_train, batch_size=15, epochs=5)\n",
        "\n",
        "#Neural Network prediction\n",
        "DNN_Yhat = (DNN.predict(X_test) > 0.5).astype(\"int32\")"
      ],
      "execution_count": null,
      "outputs": []
    },
    {
      "cell_type": "code",
      "metadata": {
        "colab": {
          "base_uri": "https://localhost:8080/"
        },
        "id": "pt13JCkZJXSB",
        "outputId": "e252934b-905e-426d-e166-0f124798e84e"
      },
      "source": [
        "# Accuracy score = No.of correct predictions / Total no.of predictions\n",
        "from sklearn.metrics import accuracy_score\n",
        "print(cl('ACCURACY SCORE', attrs = ['bold']))\n",
        "print('--------------------------------------------------------------')\n",
        "print('Decision tree model accuracy is {}'.format(accuracy_score(Y_test, tree_Yhat)))\n",
        "print('KNN model accuracy is {}'.format(accuracy_score(Y_test, knn_Yhat)))\n",
        "print(\"Logistic Regression model accuracy is {}\".format(accuracy_score(Y_test, lr_Yhat)))\n",
        "print('SVM model accuracy is {}'.format(accuracy_score(Y_test, svm_Yhat)))"
      ],
      "execution_count": null,
      "outputs": [
        {
          "output_type": "stream",
          "name": "stdout",
          "text": [
            "\u001b[1mACCURACY SCORE\u001b[0m\n",
            "--------------------------------------------------------------\n",
            "Decision tree model accuracy is 0.9993679997191109\n",
            "KNN model accuracy is 0.9992451107756047\n",
            "Logistic Regression model accuracy is 0.9991924440855307\n",
            "SVM model accuracy is 0.998735999438222\n"
          ]
        }
      ]
    },
    {
      "cell_type": "code",
      "metadata": {
        "colab": {
          "base_uri": "https://localhost:8080/"
        },
        "id": "TBYlW3EDJmI4",
        "outputId": "9912de56-e8a9-4787-ecf6-4b341a1fce9f"
      },
      "source": [
        "#precision score\n",
        "from sklearn.metrics import precision_score\n",
        "print(cl('PRECISION SCORE', attrs = ['bold']))\n",
        "print('--------------------------------------------------------------')\n",
        "print('Decision tree model precision score is {}'.format(precision_score(Y_test, tree_Yhat)))\n",
        "print('KNN model precision score is {}'.format(precision_score(Y_test, knn_Yhat)))\n",
        "print('Logistic Regression model precision score is {}'.format(precision_score(Y_test, lr_Yhat)))\n",
        "print('SVM model precision score is {}'.format(precision_score(Y_test, svm_Yhat)))\n"
      ],
      "execution_count": null,
      "outputs": [
        {
          "output_type": "stream",
          "name": "stdout",
          "text": [
            "\u001b[1mPRECISION SCORE\u001b[0m\n",
            "--------------------------------------------------------------\n",
            "Decision tree model precision score is 0.8651685393258427\n",
            "KNN model precision score is 0.9142857142857143\n",
            "Logistic Regression model precision score is 0.8767123287671232\n",
            "SVM model precision score is 0.8372093023255814\n"
          ]
        }
      ]
    },
    {
      "cell_type": "code",
      "metadata": {
        "colab": {
          "base_uri": "https://localhost:8080/"
        },
        "id": "GVqhQW18J1i2",
        "outputId": "d535a830-717b-4978-eaf5-8653c0a4dc33"
      },
      "source": [
        "#recall score\n",
        "from sklearn.metrics import recall_score\n",
        "print(cl('RECALL SCORE', attrs = ['bold']))\n",
        "print('--------------------------------------------------------------')\n",
        "print('Decision tree recall is {}'.format(recall_score(Y_test, tree_Yhat)))\n",
        "print('KNN model recall is {}'.format(recall_score(Y_test, knn_Yhat)))\n",
        "print('Logistic Regression model recall is {}'.format(recall_score(Y_test, lr_Yhat)))\n",
        "print('SVM model recall is {}'.format(recall_score(Y_test, svm_Yhat)))"
      ],
      "execution_count": null,
      "outputs": [
        {
          "output_type": "stream",
          "name": "stdout",
          "text": [
            "\u001b[1mRECALL SCORE\u001b[0m\n",
            "--------------------------------------------------------------\n",
            "Decision tree recall is 0.7623762376237624\n",
            "KNN model recall is 0.6336633663366337\n",
            "Logistic Regression model recall is 0.6336633663366337\n",
            "SVM model recall is 0.3564356435643564\n"
          ]
        }
      ]
    },
    {
      "cell_type": "code",
      "metadata": {
        "colab": {
          "base_uri": "https://localhost:8080/"
        },
        "id": "ZT9uz1PdJ76A",
        "outputId": "b2d2ef62-1b63-4ba9-b3cb-51eac0263d31"
      },
      "source": [
        "# F1 score = 2( (precision * recall) / (precision + recall) )\n",
        "from sklearn.metrics import f1_score\n",
        "print(cl('F1 SCORE', attrs = ['bold']))\n",
        "print('--------------------------------------------------------------')\n",
        "print('Decision tree f1 score is {}'.format(f1_score(Y_test, tree_Yhat)))\n",
        "print('KNN model f1 score is {}'.format(f1_score(Y_test, knn_Yhat)))\n",
        "print('Logistic Regression model f1 score is {}'.format(f1_score(Y_test, lr_Yhat)))\n",
        "print('SVM model f1 score is {}'.format(f1_score(Y_test, svm_Yhat)))"
      ],
      "execution_count": null,
      "outputs": [
        {
          "output_type": "stream",
          "name": "stdout",
          "text": [
            "\u001b[1mF1 SCORE\u001b[0m\n",
            "--------------------------------------------------------------\n",
            "Decision tree f1 score is 0.8105263157894738\n",
            "KNN model f1 score is 0.7485380116959064\n",
            "Logistic Regression model f1 score is 0.7356321839080459\n",
            "SVM model f1 score is 0.5\n"
          ]
        }
      ]
    }
  ]
}