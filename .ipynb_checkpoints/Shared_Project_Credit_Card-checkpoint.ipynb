{
 "cells": [
  {
   "cell_type": "markdown",
   "metadata": {
    "id": "ulm-qzCW2Oe5"
   },
   "source": [
    "# Installing packages and Importing datasets"
   ]
  },
  {
   "cell_type": "code",
   "execution_count": 20,
   "metadata": {},
   "outputs": [
    {
     "name": "stdout",
     "output_type": "stream",
     "text": [
      "Requirement already satisfied: matplotlib in c:\\users\\stein\\appdata\\local\\mambaforge\\lib\\site-packages (3.5.0)\n",
      "Requirement already satisfied: python-dateutil>=2.7 in c:\\users\\stein\\appdata\\local\\mambaforge\\lib\\site-packages (from matplotlib) (2.8.2)\n",
      "Requirement already satisfied: fonttools>=4.22.0 in c:\\users\\stein\\appdata\\local\\mambaforge\\lib\\site-packages (from matplotlib) (4.28.1)\n",
      "Requirement already satisfied: cycler>=0.10 in c:\\users\\stein\\appdata\\local\\mambaforge\\lib\\site-packages (from matplotlib) (0.11.0)\n",
      "Requirement already satisfied: pyparsing>=2.2.1 in c:\\users\\stein\\appdata\\local\\mambaforge\\lib\\site-packages (from matplotlib) (2.4.7)\n",
      "Requirement already satisfied: numpy>=1.17 in c:\\users\\stein\\appdata\\local\\mambaforge\\lib\\site-packages (from matplotlib) (1.21.4)\n",
      "Requirement already satisfied: pillow>=6.2.0 in c:\\users\\stein\\appdata\\local\\mambaforge\\lib\\site-packages (from matplotlib) (8.4.0)\n",
      "Requirement already satisfied: setuptools-scm>=4 in c:\\users\\stein\\appdata\\local\\mambaforge\\lib\\site-packages (from matplotlib) (6.3.2)\n",
      "Requirement already satisfied: kiwisolver>=1.0.1 in c:\\users\\stein\\appdata\\local\\mambaforge\\lib\\site-packages (from matplotlib) (1.3.2)\n",
      "Requirement already satisfied: packaging>=20.0 in c:\\users\\stein\\appdata\\local\\mambaforge\\lib\\site-packages (from matplotlib) (21.0)\n",
      "Requirement already satisfied: six>=1.5 in c:\\users\\stein\\appdata\\local\\mambaforge\\lib\\site-packages (from python-dateutil>=2.7->matplotlib) (1.16.0)\n",
      "Requirement already satisfied: tomli>=1.0.0 in c:\\users\\stein\\appdata\\local\\mambaforge\\lib\\site-packages (from setuptools-scm>=4->matplotlib) (1.2.2)\n",
      "Requirement already satisfied: setuptools in c:\\users\\stein\\appdata\\local\\mambaforge\\lib\\site-packages (from setuptools-scm>=4->matplotlib) (57.4.0)\n",
      "Requirement already satisfied: numpy in c:\\users\\stein\\appdata\\local\\mambaforge\\lib\\site-packages (1.21.4)\n",
      "Requirement already satisfied: pandas in c:\\users\\stein\\appdata\\local\\mambaforge\\lib\\site-packages (1.3.4)\n",
      "Requirement already satisfied: pytz>=2017.3 in c:\\users\\stein\\appdata\\local\\mambaforge\\lib\\site-packages (from pandas) (2021.1)\n",
      "Requirement already satisfied: numpy>=1.17.3 in c:\\users\\stein\\appdata\\local\\mambaforge\\lib\\site-packages (from pandas) (1.21.4)\n",
      "Requirement already satisfied: python-dateutil>=2.7.3 in c:\\users\\stein\\appdata\\local\\mambaforge\\lib\\site-packages (from pandas) (2.8.2)\n",
      "Requirement already satisfied: six>=1.5 in c:\\users\\stein\\appdata\\local\\mambaforge\\lib\\site-packages (from python-dateutil>=2.7.3->pandas) (1.16.0)\n",
      "Requirement already satisfied: seaborn in c:\\users\\stein\\appdata\\local\\mambaforge\\lib\\site-packages (0.11.2)\n",
      "Requirement already satisfied: matplotlib>=2.2 in c:\\users\\stein\\appdata\\local\\mambaforge\\lib\\site-packages (from seaborn) (3.5.0)\n",
      "Requirement already satisfied: pandas>=0.23 in c:\\users\\stein\\appdata\\local\\mambaforge\\lib\\site-packages (from seaborn) (1.3.4)\n",
      "Requirement already satisfied: scipy>=1.0 in c:\\users\\stein\\appdata\\local\\mambaforge\\lib\\site-packages (from seaborn) (1.7.2)\n",
      "Requirement already satisfied: numpy>=1.15 in c:\\users\\stein\\appdata\\local\\mambaforge\\lib\\site-packages (from seaborn) (1.21.4)\n",
      "Requirement already satisfied: setuptools-scm>=4 in c:\\users\\stein\\appdata\\local\\mambaforge\\lib\\site-packages (from matplotlib>=2.2->seaborn) (6.3.2)\n",
      "Requirement already satisfied: kiwisolver>=1.0.1 in c:\\users\\stein\\appdata\\local\\mambaforge\\lib\\site-packages (from matplotlib>=2.2->seaborn) (1.3.2)\n",
      "Requirement already satisfied: pillow>=6.2.0 in c:\\users\\stein\\appdata\\local\\mambaforge\\lib\\site-packages (from matplotlib>=2.2->seaborn) (8.4.0)\n",
      "Requirement already satisfied: cycler>=0.10 in c:\\users\\stein\\appdata\\local\\mambaforge\\lib\\site-packages (from matplotlib>=2.2->seaborn) (0.11.0)\n",
      "Requirement already satisfied: packaging>=20.0 in c:\\users\\stein\\appdata\\local\\mambaforge\\lib\\site-packages (from matplotlib>=2.2->seaborn) (21.0)\n",
      "Requirement already satisfied: python-dateutil>=2.7 in c:\\users\\stein\\appdata\\local\\mambaforge\\lib\\site-packages (from matplotlib>=2.2->seaborn) (2.8.2)\n",
      "Requirement already satisfied: fonttools>=4.22.0 in c:\\users\\stein\\appdata\\local\\mambaforge\\lib\\site-packages (from matplotlib>=2.2->seaborn) (4.28.1)\n",
      "Requirement already satisfied: pyparsing>=2.2.1 in c:\\users\\stein\\appdata\\local\\mambaforge\\lib\\site-packages (from matplotlib>=2.2->seaborn) (2.4.7)\n",
      "Requirement already satisfied: pytz>=2017.3 in c:\\users\\stein\\appdata\\local\\mambaforge\\lib\\site-packages (from pandas>=0.23->seaborn) (2021.1)\n",
      "Requirement already satisfied: six>=1.5 in c:\\users\\stein\\appdata\\local\\mambaforge\\lib\\site-packages (from python-dateutil>=2.7->matplotlib>=2.2->seaborn) (1.16.0)\n",
      "Requirement already satisfied: setuptools in c:\\users\\stein\\appdata\\local\\mambaforge\\lib\\site-packages (from setuptools-scm>=4->matplotlib>=2.2->seaborn) (57.4.0)\n",
      "Requirement already satisfied: tomli>=1.0.0 in c:\\users\\stein\\appdata\\local\\mambaforge\\lib\\site-packages (from setuptools-scm>=4->matplotlib>=2.2->seaborn) (1.2.2)\n",
      "Requirement already satisfied: scipy in c:\\users\\stein\\appdata\\local\\mambaforge\\lib\\site-packages (1.7.2)\n",
      "Requirement already satisfied: numpy<1.23.0,>=1.16.5 in c:\\users\\stein\\appdata\\local\\mambaforge\\lib\\site-packages (from scipy) (1.21.4)\n",
      "Requirement already satisfied: scikit-learn in c:\\users\\stein\\appdata\\local\\mambaforge\\lib\\site-packages (1.0.1)\n",
      "Requirement already satisfied: joblib>=0.11 in c:\\users\\stein\\appdata\\local\\mambaforge\\lib\\site-packages (from scikit-learn) (1.0.1)\n",
      "Requirement already satisfied: threadpoolctl>=2.0.0 in c:\\users\\stein\\appdata\\local\\mambaforge\\lib\\site-packages (from scikit-learn) (3.0.0)\n",
      "Requirement already satisfied: numpy>=1.14.6 in c:\\users\\stein\\appdata\\local\\mambaforge\\lib\\site-packages (from scikit-learn) (1.21.4)\n",
      "Requirement already satisfied: scipy>=1.1.0 in c:\\users\\stein\\appdata\\local\\mambaforge\\lib\\site-packages (from scikit-learn) (1.7.2)\n",
      "Requirement already satisfied: keras in c:\\users\\stein\\appdata\\local\\mambaforge\\lib\\site-packages (2.7.0)\n",
      "Collecting tensorflow\n",
      "  Downloading tensorflow-2.7.0-cp39-cp39-win_amd64.whl (430.8 MB)\n",
      "Collecting google-pasta>=0.1.1\n",
      "  Downloading google_pasta-0.2.0-py3-none-any.whl (57 kB)\n",
      "Collecting tensorflow-estimator<2.8,~=2.7.0rc0\n",
      "  Downloading tensorflow_estimator-2.7.0-py2.py3-none-any.whl (463 kB)\n",
      "Collecting grpcio<2.0,>=1.24.3\n",
      "  Downloading grpcio-1.42.0-cp39-cp39-win_amd64.whl (3.3 MB)\n",
      "Collecting gast<0.5.0,>=0.2.1\n",
      "  Downloading gast-0.4.0-py3-none-any.whl (9.8 kB)\n",
      "Requirement already satisfied: wheel<1.0,>=0.32.0 in c:\\users\\stein\\appdata\\local\\mambaforge\\lib\\site-packages (from tensorflow) (0.37.0)\n",
      "Requirement already satisfied: six>=1.12.0 in c:\\users\\stein\\appdata\\local\\mambaforge\\lib\\site-packages (from tensorflow) (1.16.0)\n",
      "Requirement already satisfied: numpy>=1.14.5 in c:\\users\\stein\\appdata\\local\\mambaforge\\lib\\site-packages (from tensorflow) (1.21.4)\n",
      "Collecting h5py>=2.9.0\n",
      "  Downloading h5py-3.6.0-cp39-cp39-win_amd64.whl (2.8 MB)\n",
      "Collecting flatbuffers<3.0,>=1.12\n",
      "  Downloading flatbuffers-2.0-py2.py3-none-any.whl (26 kB)\n",
      "Collecting absl-py>=0.4.0\n",
      "  Downloading absl_py-1.0.0-py3-none-any.whl (126 kB)\n",
      "Collecting libclang>=9.0.1\n",
      "  Downloading libclang-12.0.0-py2.py3-none-win_amd64.whl (13.1 MB)\n",
      "Collecting protobuf>=3.9.2\n",
      "  Downloading protobuf-3.19.1-cp39-cp39-win_amd64.whl (895 kB)\n",
      "Collecting tensorflow-io-gcs-filesystem>=0.21.0\n",
      "  Downloading tensorflow_io_gcs_filesystem-0.22.0-cp39-cp39-win_amd64.whl (1.5 MB)\n",
      "Collecting termcolor>=1.1.0\n",
      "  Downloading termcolor-1.1.0.tar.gz (3.9 kB)\n",
      "Requirement already satisfied: keras<2.8,>=2.7.0rc0 in c:\\users\\stein\\appdata\\local\\mambaforge\\lib\\site-packages (from tensorflow) (2.7.0)\n",
      "Collecting astunparse>=1.6.0\n",
      "  Downloading astunparse-1.6.3-py2.py3-none-any.whl (12 kB)\n",
      "Collecting wrapt>=1.11.0\n",
      "  Downloading wrapt-1.13.3-cp39-cp39-win_amd64.whl (34 kB)\n",
      "Collecting typing-extensions>=3.6.6\n",
      "  Downloading typing_extensions-4.0.0-py3-none-any.whl (22 kB)\n",
      "Collecting keras-preprocessing>=1.1.1\n",
      "  Downloading Keras_Preprocessing-1.1.2-py2.py3-none-any.whl (42 kB)\n",
      "Collecting opt-einsum>=2.3.2\n",
      "  Downloading opt_einsum-3.3.0-py3-none-any.whl (65 kB)\n",
      "Collecting tensorboard~=2.6\n",
      "  Downloading tensorboard-2.7.0-py3-none-any.whl (5.8 MB)\n",
      "Collecting markdown>=2.6.8\n",
      "  Downloading Markdown-3.3.6-py3-none-any.whl (97 kB)\n",
      "Collecting google-auth<3,>=1.6.3\n",
      "  Downloading google_auth-2.3.3-py2.py3-none-any.whl (155 kB)\n",
      "Collecting tensorboard-data-server<0.7.0,>=0.6.0\n",
      "  Downloading tensorboard_data_server-0.6.1-py3-none-any.whl (2.4 kB)\n",
      "Collecting tensorboard-plugin-wit>=1.6.0\n",
      "  Downloading tensorboard_plugin_wit-1.8.0-py3-none-any.whl (781 kB)\n",
      "Collecting werkzeug>=0.11.15\n",
      "  Downloading Werkzeug-2.0.2-py3-none-any.whl (288 kB)\n",
      "Collecting google-auth-oauthlib<0.5,>=0.4.1\n",
      "  Downloading google_auth_oauthlib-0.4.6-py2.py3-none-any.whl (18 kB)\n",
      "Requirement already satisfied: requests<3,>=2.21.0 in c:\\users\\stein\\appdata\\local\\mambaforge\\lib\\site-packages (from tensorboard~=2.6->tensorflow) (2.26.0)\n",
      "Requirement already satisfied: setuptools>=41.0.0 in c:\\users\\stein\\appdata\\local\\mambaforge\\lib\\site-packages (from tensorboard~=2.6->tensorflow) (57.4.0)\n",
      "Collecting pyasn1-modules>=0.2.1\n",
      "  Downloading pyasn1_modules-0.2.8-py2.py3-none-any.whl (155 kB)\n",
      "Collecting cachetools<5.0,>=2.0.0\n",
      "  Downloading cachetools-4.2.4-py3-none-any.whl (10 kB)\n",
      "Collecting rsa<5,>=3.1.4\n",
      "  Downloading rsa-4.7.2-py3-none-any.whl (34 kB)\n",
      "Collecting requests-oauthlib>=0.7.0\n",
      "  Downloading requests_oauthlib-1.3.0-py2.py3-none-any.whl (23 kB)\n",
      "Requirement already satisfied: importlib-metadata>=4.4 in c:\\users\\stein\\appdata\\local\\mambaforge\\lib\\site-packages (from markdown>=2.6.8->tensorboard~=2.6->tensorflow) (4.8.1)\n",
      "Requirement already satisfied: zipp>=0.5 in c:\\users\\stein\\appdata\\local\\mambaforge\\lib\\site-packages (from importlib-metadata>=4.4->markdown>=2.6.8->tensorboard~=2.6->tensorflow) (3.5.0)\n",
      "Collecting pyasn1<0.5.0,>=0.4.6\n",
      "  Downloading pyasn1-0.4.8-py2.py3-none-any.whl (77 kB)\n",
      "Requirement already satisfied: idna<4,>=2.5 in c:\\users\\stein\\appdata\\local\\mambaforge\\lib\\site-packages (from requests<3,>=2.21.0->tensorboard~=2.6->tensorflow) (3.1)\n",
      "Requirement already satisfied: charset-normalizer~=2.0.0 in c:\\users\\stein\\appdata\\local\\mambaforge\\lib\\site-packages (from requests<3,>=2.21.0->tensorboard~=2.6->tensorflow) (2.0.0)\n",
      "Requirement already satisfied: certifi>=2017.4.17 in c:\\users\\stein\\appdata\\local\\mambaforge\\lib\\site-packages (from requests<3,>=2.21.0->tensorboard~=2.6->tensorflow) (2021.5.30)\n",
      "Requirement already satisfied: urllib3<1.27,>=1.21.1 in c:\\users\\stein\\appdata\\local\\mambaforge\\lib\\site-packages (from requests<3,>=2.21.0->tensorboard~=2.6->tensorflow) (1.26.6)\n",
      "Collecting oauthlib>=3.0.0\n",
      "  Downloading oauthlib-3.1.1-py2.py3-none-any.whl (146 kB)\n",
      "Building wheels for collected packages: termcolor\n",
      "  Building wheel for termcolor (setup.py): started\n",
      "  Building wheel for termcolor (setup.py): finished with status 'done'\n",
      "  Created wheel for termcolor: filename=termcolor-1.1.0-py3-none-any.whl size=4847 sha256=496ebde2620c614a58ee8d0a2e41a39f5552bffcf829cc681f5114970fadbe83\n",
      "  Stored in directory: c:\\users\\stein\\appdata\\local\\pip\\cache\\wheels\\b6\\0d\\90\\0d1bbd99855f99cb2f6c2e5ff96f8023fad8ec367695f7d72d\n",
      "Successfully built termcolor\n",
      "Installing collected packages: pyasn1, rsa, pyasn1-modules, oauthlib, cachetools, requests-oauthlib, google-auth, werkzeug, tensorboard-plugin-wit, tensorboard-data-server, protobuf, markdown, grpcio, google-auth-oauthlib, absl-py, wrapt, typing-extensions, termcolor, tensorflow-io-gcs-filesystem, tensorflow-estimator, tensorboard, opt-einsum, libclang, keras-preprocessing, h5py, google-pasta, gast, flatbuffers, astunparse, tensorflow\n",
      "Successfully installed absl-py-1.0.0 astunparse-1.6.3 cachetools-4.2.4 flatbuffers-2.0 gast-0.4.0 google-auth-2.3.3 google-auth-oauthlib-0.4.6 google-pasta-0.2.0 grpcio-1.42.0 h5py-3.6.0 keras-preprocessing-1.1.2 libclang-12.0.0 markdown-3.3.6 oauthlib-3.1.1 opt-einsum-3.3.0 protobuf-3.19.1 pyasn1-0.4.8 pyasn1-modules-0.2.8 requests-oauthlib-1.3.0 rsa-4.7.2 tensorboard-2.7.0 tensorboard-data-server-0.6.1 tensorboard-plugin-wit-1.8.0 tensorflow-2.7.0 tensorflow-estimator-2.7.0 tensorflow-io-gcs-filesystem-0.22.0 termcolor-1.1.0 typing-extensions-4.0.0 werkzeug-2.0.2 wrapt-1.13.3\n"
     ]
    }
   ],
   "source": [
    "import sys\n",
    "!{sys.executable} -m pip install matplotlib\n",
    "!{sys.executable} -m pip install numpy\n",
    "!{sys.executable} -m pip install pandas\n",
    "!{sys.executable} -m pip install seaborn\n",
    "!{sys.executable} -m pip install scipy\n",
    "!{sys.executable} -m pip install scikit-learn\n",
    "!{sys.executable} -m pip install keras\n",
    "!{sys.executable} -m pip install tensorflow"
   ]
  },
  {
   "cell_type": "code",
   "execution_count": 21,
   "metadata": {
    "id": "XJyiavbYJtQU"
   },
   "outputs": [],
   "source": [
    "import numpy as np\n",
    "import pandas as pd # data processing, CSV file I/O (e.g. pd.read_csv)\n",
    "import matplotlib.pyplot as plt\n",
    "import seaborn as sns\n",
    "import scipy\n",
    "import sklearn\n",
    "import string\n",
    "import keras\n"
   ]
  },
  {
   "cell_type": "markdown",
   "metadata": {},
   "source": [
    "## Due to an error when working with google colab that could not be fixed resulting in a mandatory switch to jupyter notebooks for our IDE, the following code has been made void. \n",
    "\n",
    "### It is assumed that the user has unzipped and saved the csv files on their computer manually"
   ]
  },
  {
   "cell_type": "code",
   "execution_count": 2,
   "metadata": {
    "id": "ZUeD-uyUFkNx"
   },
   "outputs": [],
   "source": [
    "#!mkdir datasets"
   ]
  },
  {
   "cell_type": "code",
   "execution_count": 7,
   "metadata": {
    "colab": {
     "base_uri": "https://localhost:8080/"
    },
    "id": "IrGWAZjCFAno",
    "outputId": "73de3cb1-985a-4741-85e3-43d9728ad211"
   },
   "outputs": [],
   "source": [
    "#Drop the 2 zip files to upload the unzip thru\n",
    "\n",
    "#!unzip \"C:\\Users\\stein\\credit-fraud\\datasets\\creditcard.csv.zip\"\n",
    "#!unzip \"C:\\Users\\stein\\credit-fraud\\datasets\\fraudTest.csv.zip\""
   ]
  },
  {
   "cell_type": "markdown",
   "metadata": {
    "id": "EssEpQYm2Gm2"
   },
   "source": [
    "# Dataset 1: creditcard.csv"
   ]
  },
  {
   "cell_type": "code",
   "execution_count": 10,
   "metadata": {
    "colab": {
     "base_uri": "https://localhost:8080/"
    },
    "id": "U55s2keBGWER",
    "outputId": "b98f54cc-10a6-4d62-b02e-771c0e5f3249"
   },
   "outputs": [
    {
     "name": "stdout",
     "output_type": "stream",
     "text": [
      "Index(['Time', 'V1', 'V2', 'V3', 'V4', 'V5', 'V6', 'V7', 'V8', 'V9', 'V10',\n",
      "       'V11', 'V12', 'V13', 'V14', 'V15', 'V16', 'V17', 'V18', 'V19', 'V20',\n",
      "       'V21', 'V22', 'V23', 'V24', 'V25', 'V26', 'V27', 'V28', 'Amount',\n",
      "       'Class'],\n",
      "      dtype='object')\n"
     ]
    },
    {
     "data": {
      "text/plain": [
       "(284807, 31)"
      ]
     },
     "execution_count": 10,
     "metadata": {},
     "output_type": "execute_result"
    }
   ],
   "source": [
    "#importing dataset2\n",
    "data2 = pd.read_csv(r'C:\\Users\\stein\\credit-fraud\\datasets\\creditcard.csv')\n",
    "\n",
    "#Exploring data\n",
    "print(data2.columns)\n",
    "\n",
    "data2.shape"
   ]
  },
  {
   "cell_type": "code",
   "execution_count": null,
   "metadata": {
    "colab": {
     "base_uri": "https://localhost:8080/"
    },
    "id": "WOVcz_NTLkD7",
    "outputId": "99ca6caa-fcf7-4f18-a1ed-4143464727be"
   },
   "outputs": [],
   "source": [
    "print(data2.head())\n"
   ]
  },
  {
   "cell_type": "code",
   "execution_count": null,
   "metadata": {
    "colab": {
     "base_uri": "https://localhost:8080/"
    },
    "id": "Qj7ikoFmLt7A",
    "outputId": "04c6011d-bdee-44a0-ffe9-be44e25d556d"
   },
   "outputs": [
    {
     "name": "stdout",
     "output_type": "stream",
     "text": [
      "         V1        V2        V3        V4  ...       V27       V28  Amount  Class\n",
      "0 -1.359807 -0.072781  2.536347  1.378155  ...  0.133558 -0.021053  149.62      0\n",
      "1  1.191857  0.266151  0.166480  0.448154  ... -0.008983  0.014724    2.69      0\n",
      "2 -1.358354 -1.340163  1.773209  0.379780  ... -0.055353 -0.059752  378.66      0\n",
      "3 -0.966272 -0.185226  1.792993 -0.863291  ...  0.062723  0.061458  123.50      0\n",
      "4 -1.158233  0.877737  1.548718  0.403034  ...  0.219422  0.215153   69.99      0\n",
      "\n",
      "[5 rows x 30 columns]\n"
     ]
    }
   ],
   "source": [
    "#Drop Time coloumn\n",
    "data2.drop('Time', axis = 1, inplace = True)\n",
    "\n",
    "print(data2.head())"
   ]
  },
  {
   "cell_type": "code",
   "execution_count": null,
   "metadata": {
    "colab": {
     "base_uri": "https://localhost:8080/",
     "height": 826
    },
    "id": "WrUKGXpyj6hl",
    "outputId": "06579354-d913-406b-923b-6727fa9c98e5"
   },
   "outputs": [
    {
     "data": {
      "image/png": "[encoded data removed]",
      "text/plain": [
       "<Figure size 1440x1440 with 30 Axes>"
      ]
     },
     "metadata": {
      "needs_background": "light"
     },
     "output_type": "display_data"
    }
   ],
   "source": [
    "# plot histogram of each parameter\n",
    "data2.hist(figsize = (20, 20))\n",
    "plt.show()"
   ]
  },
  {
   "cell_type": "code",
   "execution_count": null,
   "metadata": {
    "colab": {
     "base_uri": "https://localhost:8080/"
    },
    "id": "kA9iF2EfMMLX",
    "outputId": "3477b924-2677-48c9-ccb3-80aa91086620"
   },
   "outputs": [
    {
     "name": "stdout",
     "output_type": "stream",
     "text": [
      "\u001b[1mCASE COUNT\u001b[0m\n",
      "-----------------------------------\n",
      "Total number of cases: 284807\n",
      "Number of Non-fraud cases: 284315\n",
      "Number of Fraud cases: 492\n",
      "Percentage of fraud cases: 0.17\n",
      "------------------------------------\n",
      "Outlier: 0.001727485630620034\n",
      "------------------------------------\n"
     ]
    }
   ],
   "source": [
    "cases = len(data2)\n",
    "nonfraud_cases = len(data2[data2.Class == 0])\n",
    "fraud_cases = len(data2[data2.Class == 1])\n",
    "fraud_percentage = round(fraud_cases/nonfraud_cases*100, 2)\n",
    "outlier_fraction = fraud_cases / float(cases)\n",
    "\n",
    "from termcolor import colored as cl # text customization\n",
    "print(cl('CASE COUNT', attrs = ['bold']))\n",
    "\n",
    "print('-----------------------------------')\n",
    "print('Total number of cases: {}'.format(cases))\n",
    "print('Number of Non-fraud cases: {}'.format(nonfraud_cases))\n",
    "print('Number of Fraud cases: {}'.format(fraud_cases))\n",
    "print('Percentage of fraud cases: {}'.format(fraud_percentage))\n",
    "print('------------------------------------')\n",
    "\n",
    "print('Outlier: {}'.format(outlier_fraction))\n",
    "print('------------------------------------')\n",
    "\n",
    "\n"
   ]
  },
  {
   "cell_type": "code",
   "execution_count": null,
   "metadata": {
    "colab": {
     "base_uri": "https://localhost:8080/"
    },
    "id": "lPI1ttazoa9F",
    "outputId": "722430ad-4b42-415b-950c-d04f31ecfb9a"
   },
   "outputs": [],
   "source": [
    "from sklearn.preprocessing import StandardScaler # data normalization\n",
    "sc = StandardScaler()\n",
    "amount = data2['Amount'].values\n",
    "\n",
    "data2['Amount'] = sc.fit_transform(amount.reshape(-1, 1))\n",
    "\n",
    "print(cl(data2['Amount'].head(10), attrs = ['bold']))"
   ]
  },
  {
   "cell_type": "code",
   "execution_count": null,
   "metadata": {
    "colab": {
     "base_uri": "https://localhost:8080/"
    },
    "id": "xImyCx4GV0vu",
    "outputId": "8e9a20c4-ff3c-46de-8680-5708e3a9875e"
   },
   "outputs": [],
   "source": [
    "#Data split to Test and Train\n",
    "from sklearn.model_selection import train_test_split # data split\n",
    "\n",
    "X = data2.drop('Class', axis = 1).values # X includes everything except our class column\n",
    "Y = data2['Class'].values # Y includes all the class labels for each sample\n",
    "\n",
    "#Splitting dataset into 20% test and 80% train\n",
    "# random_state helps assure that you always get the same output when you split the data, helps create reproducible results \n",
    "X_train, X_test, Y_train, Y_test = train_test_split(X, Y, test_size = 0.2, random_state = 0)\n",
    "\n",
    "print(cl('X_train samples : ', attrs = ['bold']), X_train[:1])\n",
    "print(cl('X_test samples : ', attrs = ['bold']), X_test[0:1])\n",
    "print(cl('Y_train samples : ', attrs = ['bold']), Y_train[0:20])\n",
    "print(cl('Y_test samples : ', attrs = ['bold']), Y_test[0:20])"
   ]
  },
  {
   "cell_type": "markdown",
   "metadata": {
    "id": "_-SIWon8wSRu"
   },
   "source": [
    "Classification algorithms"
   ]
  },
  {
   "cell_type": "code",
   "execution_count": null,
   "metadata": {
    "colab": {
     "base_uri": "https://localhost:8080/"
    },
    "id": "U2J7LMxOI97F",
    "outputId": "0cb260e5-e93e-40c7-8f65-dd80309e6d86"
   },
   "outputs": [],
   "source": [
    "# Applying Classification Algorithms\n",
    "# 1. Decision Tree\n",
    "from sklearn.tree import DecisionTreeClassifier\n",
    "\n",
    "tree_model = DecisionTreeClassifier(max_depth = 4, criterion = 'entropy')\n",
    "tree_model.fit(X_train, Y_train)\n",
    "tree_Yhat = tree_model.predict(X_test)\n",
    "\n",
    "print(tree_Yhat)\n",
    "\n",
    "\n"
   ]
  },
  {
   "cell_type": "code",
   "execution_count": null,
   "metadata": {
    "id": "vw0XK5pVqRLw"
   },
   "outputs": [],
   "source": [
    "# 2. K-Nearest Neighbors\n",
    "from sklearn.neighbors import KNeighborsClassifier\n",
    "\n",
    "n = 10\n",
    "\n",
    "knn = KNeighborsClassifier(n_neighbors = n)\n",
    "knn.fit(X_train, Y_train)\n",
    "knn_Yhat = knn.predict(X_test)\n"
   ]
  },
  {
   "cell_type": "code",
   "execution_count": null,
   "metadata": {
    "id": "ir7cXLpGqciR"
   },
   "outputs": [],
   "source": [
    "# 3. Logistic Regression\n",
    "from sklearn.linear_model import LogisticRegression \n",
    "\n",
    "lr = LogisticRegression(max_iter=10000)\n",
    "lr.fit(X_train, Y_train)\n",
    "lr_Yhat = lr.predict(X_test)\n"
   ]
  },
  {
   "cell_type": "code",
   "execution_count": null,
   "metadata": {
    "id": "t_Twgv6LqfQ1"
   },
   "outputs": [],
   "source": [
    "# 4. SVM\n",
    "from sklearn.svm import SVC \n",
    "\n",
    "svm = SVC()\n",
    "svm.fit(X_train, Y_train)\n",
    "svm_Yhat = svm.predict(X_test)"
   ]
  },
  {
   "cell_type": "markdown",
   "metadata": {
    "id": "Uc0e22S9wW04"
   },
   "source": [
    "Neural Networks"
   ]
  },
  {
   "cell_type": "code",
   "execution_count": null,
   "metadata": {
    "colab": {
     "base_uri": "https://localhost:8080/"
    },
    "id": "Fmv7lyRHwaHU",
    "outputId": "bcb0294b-7ebe-4bbd-ae86-b1d8346a4a2f"
   },
   "outputs": [
    {
     "name": "stdout",
     "output_type": "stream",
     "text": [
      "Epoch 1/5\n",
      "15190/15190 [==============================] - 46s 3ms/step - loss: 0.0271 - accuracy: 0.9983\n",
      "Epoch 2/5\n",
      "15190/15190 [==============================] - 41s 3ms/step - loss: 0.0070 - accuracy: 0.9990\n",
      "Epoch 3/5\n",
      "15190/15190 [==============================] - 53s 3ms/step - loss: 0.0060 - accuracy: 0.9991\n",
      "Epoch 4/5\n",
      "15190/15190 [==============================] - 51s 3ms/step - loss: 0.0064 - accuracy: 0.9992\n",
      "Epoch 5/5\n",
      "15190/15190 [==============================] - 38s 2ms/step - loss: 0.0058 - accuracy: 0.9992\n"
     ]
    },
    {
     "data": {
      "text/plain": [
       "<keras.callbacks.History at 0x7f83f3845410>"
      ]
     },
     "execution_count": 21,
     "metadata": {},
     "output_type": "execute_result"
    }
   ],
   "source": [
    "#Deep neural network\n",
    "from keras.models import Sequential\n",
    "from keras.layers import Dense\n",
    "from keras.layers import Dropout\n",
    "\n",
    "DNN = Sequential([\n",
    "Dense(input_dim = 29, units = 16, activation = 'relu'),\n",
    "Dense(units = 24, activation = 'relu'),\n",
    "Dropout(0.5),\n",
    "Dense(units = 20, activation = 'relu'),\n",
    "Dense(units = 24, activation = 'relu'),\n",
    "Dense(units =1, activation = 'sigmoid'),])\n",
    "\n",
    "DNN.compile(optimizer='adam', loss='binary_crossentropy', metrics=['accuracy'])\n",
    "DNN.fit(X_train, Y_train, batch_size=15, epochs=5)\n",
    "\n",
    "#Neural Network Accuracy\n",
    "DNN_Yhat = (DNN.predict(X_test) > 0.5).astype(\"int32\")"
   ]
  },
  {
   "cell_type": "markdown",
   "metadata": {
    "id": "vzpUBLXImX_J"
   },
   "source": [
    "Calculate Evaluation metric for each implemented model"
   ]
  },
  {
   "cell_type": "code",
   "execution_count": null,
   "metadata": {
    "colab": {
     "base_uri": "https://localhost:8080/"
    },
    "id": "qEU1Zfg-zO7U",
    "outputId": "4ed61e79-8112-4c47-fac3-373857b1f857"
   },
   "outputs": [
    {
     "name": "stdout",
     "output_type": "stream",
     "text": [
      "\u001b[1mACCURACY SCORE\u001b[0m\n",
      "--------------------------------------------------------------\n",
      "Decision tree model accuracy is 0.9993679997191109\n",
      "KNN model accuracy is 0.9992451107756047\n",
      "Logistic Regression model accuracy is 0.9991924440855307\n",
      "SVM model accuracy is 0.998735999438222\n",
      "Deep Neural Network model accuracy is 0.9993328885923949\n"
     ]
    }
   ],
   "source": [
    "# Accuracy score = No.of correct predictions / Total no.of predictions\n",
    "from sklearn.metrics import accuracy_score\n",
    "print(cl('ACCURACY SCORE', attrs = ['bold']))\n",
    "print('--------------------------------------------------------------')\n",
    "print('Decision tree model accuracy is {}'.format(accuracy_score(Y_test, tree_Yhat)))\n",
    "print('KNN model accuracy is {}'.format(accuracy_score(Y_test, knn_Yhat)))\n",
    "print(\"Logistic Regression model accuracy is {}\".format(accuracy_score(Y_test, lr_Yhat)))\n",
    "print('SVM model accuracy is {}'.format(accuracy_score(Y_test, svm_Yhat)))\n",
    "print('Deep Neural Network model accuracy is {}'.format(accuracy_score(Y_test, DNN_Yhat)))"
   ]
  },
  {
   "cell_type": "code",
   "execution_count": null,
   "metadata": {
    "colab": {
     "base_uri": "https://localhost:8080/"
    },
    "id": "WZQfmXakpJNq",
    "outputId": "978125d5-b538-4e7e-a7fa-26068ab6c3d3"
   },
   "outputs": [
    {
     "name": "stdout",
     "output_type": "stream",
     "text": [
      "\u001b[1mPRECISION SCORE\u001b[0m\n",
      "--------------------------------------------------------------\n",
      "Decision tree model precision score is 0.8651685393258427\n",
      "KNN model precision score is 0.9142857142857143\n",
      "Logistic Regression model precision score is 0.8767123287671232\n",
      "SVM model precision score is 0.8372093023255814\n",
      "Deep Neural Network model precision score is 0.8058252427184466\n"
     ]
    }
   ],
   "source": [
    "#precision score\n",
    "from sklearn.metrics import precision_score\n",
    "print(cl('PRECISION SCORE', attrs = ['bold']))\n",
    "print('--------------------------------------------------------------')\n",
    "print('Decision tree model precision score is {}'.format(precision_score(Y_test, tree_Yhat)))\n",
    "print('KNN model precision score is {}'.format(precision_score(Y_test, knn_Yhat)))\n",
    "print('Logistic Regression model precision score is {}'.format(precision_score(Y_test, lr_Yhat)))\n",
    "print('SVM model precision score is {}'.format(precision_score(Y_test, svm_Yhat)))\n",
    "print('Deep Neural Network model precision score is {}'.format(precision_score(Y_test, DNN_Yhat)))\n"
   ]
  },
  {
   "cell_type": "code",
   "execution_count": null,
   "metadata": {
    "colab": {
     "base_uri": "https://localhost:8080/"
    },
    "id": "iZ7GFYN9r8A5",
    "outputId": "1aaab288-a8d9-43f6-8867-77e2f6a05580"
   },
   "outputs": [
    {
     "name": "stdout",
     "output_type": "stream",
     "text": [
      "\u001b[1mRECALL SCORE\u001b[0m\n",
      "--------------------------------------------------------------\n",
      "Decision tree recall is 0.7623762376237624\n",
      "KNN model recall is 0.6336633663366337\n",
      "Logistic Regression model recall is 0.6336633663366337\n",
      "SVM model recall is 0.3564356435643564\n",
      "Deep Neural Network model recall is 0.8217821782178217\n"
     ]
    }
   ],
   "source": [
    "#recall score\n",
    "from sklearn.metrics import recall_score\n",
    "print(cl('RECALL SCORE', attrs = ['bold']))\n",
    "print('--------------------------------------------------------------')\n",
    "print('Decision tree recall is {}'.format(recall_score(Y_test, tree_Yhat)))\n",
    "print('KNN model recall is {}'.format(recall_score(Y_test, knn_Yhat)))\n",
    "print('Logistic Regression model recall is {}'.format(recall_score(Y_test, lr_Yhat)))\n",
    "print('SVM model recall is {}'.format(recall_score(Y_test, svm_Yhat)))\n",
    "print('Deep Neural Network model recall is {}'.format(recall_score(Y_test, DNN_Yhat)))"
   ]
  },
  {
   "cell_type": "code",
   "execution_count": null,
   "metadata": {
    "colab": {
     "base_uri": "https://localhost:8080/"
    },
    "id": "G8OV5EXS0yZj",
    "outputId": "b2f9c3b0-c70e-4b34-b4e7-be8dc2e608f0"
   },
   "outputs": [
    {
     "name": "stdout",
     "output_type": "stream",
     "text": [
      "\u001b[1mF1 SCORE\u001b[0m\n",
      "--------------------------------------------------------------\n",
      "Decision tree f1 score is 0.8105263157894738\n",
      "KNN model f1 score is 0.7485380116959064\n",
      "Logistic Regression model f1 score is 0.7356321839080459\n",
      "SVM model f1 score is 0.5\n",
      "Deep Neural Network model f1 score is 0.8137254901960784\n"
     ]
    }
   ],
   "source": [
    "# F1 score = 2( (precision * recall) / (precision + recall) )\n",
    "from sklearn.metrics import f1_score\n",
    "print(cl('F1 SCORE', attrs = ['bold']))\n",
    "print('--------------------------------------------------------------')\n",
    "print('Decision tree f1 score is {}'.format(f1_score(Y_test, tree_Yhat)))\n",
    "print('KNN model f1 score is {}'.format(f1_score(Y_test, knn_Yhat)))\n",
    "print('Logistic Regression model f1 score is {}'.format(f1_score(Y_test, lr_Yhat)))\n",
    "print('SVM model f1 score is {}'.format(f1_score(Y_test, svm_Yhat)))\n",
    "print('Deep Neural Network model f1 score is {}'.format(f1_score(Y_test, DNN_Yhat)))"
   ]
  },
  {
   "cell_type": "markdown",
   "metadata": {
    "id": "SZKa0NGEc1oz"
   },
   "source": [
    "# Dataset 2: fraudTest.csv \n",
    "(split off from a dataset too large to work with)"
   ]
  },
  {
   "cell_type": "code",
   "execution_count": 22,
   "metadata": {
    "colab": {
     "base_uri": "https://localhost:8080/",
     "height": 442
    },
    "id": "h-eqRh6vbRLk",
    "outputId": "375fe0d0-ba14-4b8b-d1b7-2b3cb7bd6614"
   },
   "outputs": [
    {
     "name": "stdout",
     "output_type": "stream",
     "text": [
      "Index(['Unnamed: 0', 'trans_date_trans_time', 'cc_num', 'merchant', 'category',\n",
      "       'amt', 'first', 'last', 'gender', 'street', 'city', 'state', 'zip',\n",
      "       'lat', 'long', 'city_pop', 'job', 'dob', 'trans_num', 'unix_time',\n",
      "       'merch_lat', 'merch_long', 'is_fraud'],\n",
      "      dtype='object')\n"
     ]
    },
    {
     "data": {
      "text/plain": [
       "(555719, 23)"
      ]
     },
     "execution_count": 22,
     "metadata": {},
     "output_type": "execute_result"
    }
   ],
   "source": [
    "#importing dataset3\n",
    "data3 = pd.read_csv(r'C:\\Users\\stein\\credit-fraud\\datasets\\fraudTest.csv')\n",
    "\n",
    "#Exploring data\n",
    "print(data3.columns)\n",
    "\n",
    "data3.shape"
   ]
  },
  {
   "cell_type": "code",
   "execution_count": 12,
   "metadata": {
    "colab": {
     "base_uri": "https://localhost:8080/"
    },
    "id": "v3fvZALEccus",
    "outputId": "2d02400a-d6cb-4408-abd7-6b289f5bc156"
   },
   "outputs": [
    {
     "name": "stdout",
     "output_type": "stream",
     "text": [
      "   Unnamed: 0 trans_date_trans_time            cc_num  \\\n",
      "0           0   2020-06-21 12:14:25  2291163933867244   \n",
      "1           1   2020-06-21 12:14:33  3573030041201292   \n",
      "2           2   2020-06-21 12:14:53  3598215285024754   \n",
      "3           3   2020-06-21 12:15:15  3591919803438423   \n",
      "4           4   2020-06-21 12:15:17  3526826139003047   \n",
      "\n",
      "                               merchant        category    amt   first  \\\n",
      "0                 fraud_Kirlin and Sons   personal_care   2.86    Jeff   \n",
      "1                  fraud_Sporer-Keebler   personal_care  29.84  Joanne   \n",
      "2  fraud_Swaniawski, Nitzsche and Welch  health_fitness  41.28  Ashley   \n",
      "3                     fraud_Haley Group        misc_pos  60.05   Brian   \n",
      "4                 fraud_Johnston-Casper          travel   3.19  Nathan   \n",
      "\n",
      "       last gender                       street  ...      lat      long  \\\n",
      "0   Elliott      M            351 Darlene Green  ...  33.9659  -80.9355   \n",
      "1  Williams      F             3638 Marsh Union  ...  40.3207 -110.4360   \n",
      "2     Lopez      F         9333 Valentine Point  ...  40.6729  -73.5365   \n",
      "3  Williams      M  32941 Krystal Mill Apt. 552  ...  28.5697  -80.8191   \n",
      "4    Massey      M     5783 Evan Roads Apt. 465  ...  44.2529  -85.0170   \n",
      "\n",
      "   city_pop                     job         dob  \\\n",
      "0    333497     Mechanical engineer  1968-03-19   \n",
      "1       302  Sales professional, IT  1990-01-17   \n",
      "2     34496       Librarian, public  1970-10-21   \n",
      "3     54767            Set designer  1987-07-25   \n",
      "4      1126      Furniture designer  1955-07-06   \n",
      "\n",
      "                          trans_num   unix_time  merch_lat  merch_long  \\\n",
      "0  2da90c7d74bd46a0caf3777415b3ebd3  1371816865  33.986391  -81.200714   \n",
      "1  324cc204407e99f51b0d6ca0055005e7  1371816873  39.450498 -109.960431   \n",
      "2  c81755dbbbea9d5c77f094348a7579be  1371816893  40.495810  -74.196111   \n",
      "3  2159175b9efe66dc301f149d3d5abf8c  1371816915  28.812398  -80.883061   \n",
      "4  57ff021bd3f328f8738bb535c302a31b  1371816917  44.959148  -85.884734   \n",
      "\n",
      "   is_fraud  \n",
      "0         0  \n",
      "1         0  \n",
      "2         0  \n",
      "3         0  \n",
      "4         0  \n",
      "\n",
      "[5 rows x 23 columns]\n"
     ]
    }
   ],
   "source": [
    "print(data3.head())"
   ]
  },
  {
   "cell_type": "code",
   "execution_count": 13,
   "metadata": {
    "colab": {
     "base_uri": "https://localhost:8080/",
     "height": 826
    },
    "id": "e7SSxdnjdv7V",
    "outputId": "9426877d-e132-4284-8309-89101782864a"
   },
   "outputs": [
    {
     "data": {
      "image/png": "[encoded data removed]",
      "text/plain": [
       "<Figure size 1440x1440 with 12 Axes>"
      ]
     },
     "metadata": {
      "needs_background": "light"
     },
     "output_type": "display_data"
    }
   ],
   "source": [
    "# plot histogram of each parameter\n",
    "data3.hist(figsize = (20, 20))\n",
    "plt.show()"
   ]
  },
  {
   "cell_type": "code",
   "execution_count": 23,
   "metadata": {
    "colab": {
     "base_uri": "https://localhost:8080/"
    },
    "id": "1bhR2OtLeYYk",
    "outputId": "ee2aedb9-3dfa-4a5f-bf5c-345f30e92242"
   },
   "outputs": [
    {
     "name": "stdout",
     "output_type": "stream",
     "text": [
      "\u001b[1mCASE COUNT\u001b[0m\n",
      "-----------------------------------\n",
      "Total number of cases: 555719\n",
      "Number of Non-fraud cases: 553574\n",
      "Number of Fraud cases: 2145\n",
      "Percentage of fraud cases: 0.39\n",
      "------------------------------------\n",
      "Outlier: 0.0038598644278853163\n",
      "------------------------------------\n"
     ]
    }
   ],
   "source": [
    "cases = len(data3)\n",
    "nonfraud_cases = len(data3[data3.is_fraud == 0])\n",
    "fraud_cases = len(data3[data3.is_fraud == 1])\n",
    "fraud_percentage = round(fraud_cases/nonfraud_cases*100, 2)\n",
    "outlier_fraction = fraud_cases / float(cases)\n",
    "\n",
    "from termcolor import colored as cl # text customization\n",
    "print(cl('CASE COUNT', attrs = ['bold']))\n",
    "\n",
    "print('-----------------------------------')\n",
    "print('Total number of cases: {}'.format(cases))\n",
    "print('Number of Non-fraud cases: {}'.format(nonfraud_cases))\n",
    "print('Number of Fraud cases: {}'.format(fraud_cases))\n",
    "print('Percentage of fraud cases: {}'.format(fraud_percentage))\n",
    "print('------------------------------------')\n",
    "\n",
    "print('Outlier: {}'.format(outlier_fraction))\n",
    "print('------------------------------------')\n"
   ]
  },
  {
   "cell_type": "code",
   "execution_count": 15,
   "metadata": {
    "colab": {
     "base_uri": "https://localhost:8080/"
    },
    "id": "p0xi4zjce3wD",
    "outputId": "004b3f04-f958-44a5-ce4e-8a22221b474b"
   },
   "outputs": [
    {
     "ename": "ModuleNotFoundError",
     "evalue": "No module named 'sklearn'",
     "output_type": "error",
     "traceback": [
      "\u001b[1;31m---------------------------------------------------------------------------\u001b[0m",
      "\u001b[1;31mModuleNotFoundError\u001b[0m                       Traceback (most recent call last)",
      "\u001b[1;32m~\\AppData\\Local\\Temp/ipykernel_23904/941605137.py\u001b[0m in \u001b[0;36m<module>\u001b[1;34m\u001b[0m\n\u001b[0;32m      1\u001b[0m \u001b[1;31m#Data split to Test and Train\u001b[0m\u001b[1;33m\u001b[0m\u001b[1;33m\u001b[0m\u001b[1;33m\u001b[0m\u001b[0m\n\u001b[1;32m----> 2\u001b[1;33m \u001b[1;32mfrom\u001b[0m \u001b[0msklearn\u001b[0m\u001b[1;33m.\u001b[0m\u001b[0mmodel_selection\u001b[0m \u001b[1;32mimport\u001b[0m \u001b[0mtrain_test_split\u001b[0m \u001b[1;31m# data split\u001b[0m\u001b[1;33m\u001b[0m\u001b[1;33m\u001b[0m\u001b[0m\n\u001b[0m\u001b[0;32m      3\u001b[0m \u001b[1;33m\u001b[0m\u001b[0m\n\u001b[0;32m      4\u001b[0m \u001b[0mX\u001b[0m \u001b[1;33m=\u001b[0m \u001b[0mdata3\u001b[0m\u001b[1;33m.\u001b[0m\u001b[0mdrop\u001b[0m\u001b[1;33m(\u001b[0m\u001b[1;34m'is_fraud'\u001b[0m\u001b[1;33m,\u001b[0m \u001b[0maxis\u001b[0m \u001b[1;33m=\u001b[0m \u001b[1;36m1\u001b[0m\u001b[1;33m)\u001b[0m\u001b[1;33m.\u001b[0m\u001b[0mvalues\u001b[0m \u001b[1;31m# X includes everything except our class column\u001b[0m\u001b[1;33m\u001b[0m\u001b[1;33m\u001b[0m\u001b[0m\n\u001b[0;32m      5\u001b[0m \u001b[0mY\u001b[0m \u001b[1;33m=\u001b[0m \u001b[0mdata3\u001b[0m\u001b[1;33m[\u001b[0m\u001b[1;34m'is_fraud'\u001b[0m\u001b[1;33m]\u001b[0m\u001b[1;33m.\u001b[0m\u001b[0mvalues\u001b[0m \u001b[1;31m# Y includes all the class labels for each sample\u001b[0m\u001b[1;33m\u001b[0m\u001b[1;33m\u001b[0m\u001b[0m\n",
      "\u001b[1;31mModuleNotFoundError\u001b[0m: No module named 'sklearn'"
     ]
    }
   ],
   "source": [
    "#Data split to Test and Train\n",
    "from sklearn.model_selection import train_test_split # data split\n",
    "\n",
    "X = data3.drop('is_fraud', axis = 1).values # X includes everything except our class column\n",
    "Y = data3['is_fraud'].values # Y includes all the class labels for each sample\n",
    "\n",
    "#Splitting dataset into 20% test and 80% train\n",
    "# random_state helps assure that you always get the same output when you split the data, helps create reproducible results \n",
    "X_train, X_test, Y_train, Y_test = train_test_split(X, Y, test_size = 0.2, random_state = 0)\n",
    "\n",
    "print(cl('X_train samples : ', attrs = ['bold']), X_train[:1])\n",
    "print(cl('X_test samples : ', attrs = ['bold']), X_test[0:1])\n",
    "print(cl('Y_train samples : ', attrs = ['bold']), Y_train[0:20])\n",
    "print(cl('Y_test samples : ', attrs = ['bold']), Y_test[0:20])"
   ]
  },
  {
   "cell_type": "code",
   "execution_count": null,
   "metadata": {
    "id": "y2vmT0VXEAni"
   },
   "outputs": [],
   "source": [
    "from sklearn import preprocessing\n",
    "from sklearn.preprocessing import StandardScaler # data normalization\n",
    "\n",
    "le = preprocessing.LabelEncoder()\n",
    "h\n",
    "sc = StandardScaler()\n",
    "amount = data2['Amount'].values\n",
    "\n",
    "data2['Amount'] = sc.fit_transform(amount.reshape(-1, 1))\n",
    "\n",
    "print(cl(data2['Amount'].head(10), attrs = ['bold']))"
   ]
  },
  {
   "cell_type": "code",
   "execution_count": null,
   "metadata": {
    "colab": {
     "base_uri": "https://localhost:8080/",
     "height": 357
    },
    "id": "wGbuuXz_F9sS",
    "outputId": "a31bd8b8-9838-4fd6-8496-134f6386a7c7"
   },
   "outputs": [
    {
     "ename": "ValueError",
     "evalue": "ignored",
     "output_type": "error",
     "traceback": [
      "\u001b[0;31m---------------------------------------------------------------------------\u001b[0m",
      "\u001b[0;31mValueError\u001b[0m                                Traceback (most recent call last)",
      "\u001b[0;32m<ipython-input-58-721bb40b0f70>\u001b[0m in \u001b[0;36m<module>\u001b[0;34m()\u001b[0m\n\u001b[1;32m      4\u001b[0m \u001b[0;34m\u001b[0m\u001b[0m\n\u001b[1;32m      5\u001b[0m \u001b[0mtree_model\u001b[0m \u001b[0;34m=\u001b[0m \u001b[0mDecisionTreeClassifier\u001b[0m\u001b[0;34m(\u001b[0m\u001b[0mmax_depth\u001b[0m \u001b[0;34m=\u001b[0m \u001b[0;36m4\u001b[0m\u001b[0;34m,\u001b[0m \u001b[0mcriterion\u001b[0m \u001b[0;34m=\u001b[0m \u001b[0;34m'entropy'\u001b[0m\u001b[0;34m)\u001b[0m\u001b[0;34m\u001b[0m\u001b[0;34m\u001b[0m\u001b[0m\n\u001b[0;32m----> 6\u001b[0;31m \u001b[0mtree_model\u001b[0m\u001b[0;34m.\u001b[0m\u001b[0mfit\u001b[0m\u001b[0;34m(\u001b[0m\u001b[0mX_train\u001b[0m\u001b[0;34m,\u001b[0m \u001b[0mY_train\u001b[0m\u001b[0;34m)\u001b[0m\u001b[0;34m\u001b[0m\u001b[0;34m\u001b[0m\u001b[0m\n\u001b[0m\u001b[1;32m      7\u001b[0m \u001b[0mtree_Yhat\u001b[0m \u001b[0;34m=\u001b[0m \u001b[0mtree_model\u001b[0m\u001b[0;34m.\u001b[0m\u001b[0mpredict\u001b[0m\u001b[0;34m(\u001b[0m\u001b[0mX_test\u001b[0m\u001b[0;34m)\u001b[0m\u001b[0;34m\u001b[0m\u001b[0;34m\u001b[0m\u001b[0m\n",
      "\u001b[0;32m/usr/local/lib/python3.7/dist-packages/sklearn/tree/_classes.py\u001b[0m in \u001b[0;36mfit\u001b[0;34m(self, X, y, sample_weight, check_input, X_idx_sorted)\u001b[0m\n\u001b[1;32m    940\u001b[0m             \u001b[0msample_weight\u001b[0m\u001b[0;34m=\u001b[0m\u001b[0msample_weight\u001b[0m\u001b[0;34m,\u001b[0m\u001b[0;34m\u001b[0m\u001b[0;34m\u001b[0m\u001b[0m\n\u001b[1;32m    941\u001b[0m             \u001b[0mcheck_input\u001b[0m\u001b[0;34m=\u001b[0m\u001b[0mcheck_input\u001b[0m\u001b[0;34m,\u001b[0m\u001b[0;34m\u001b[0m\u001b[0;34m\u001b[0m\u001b[0m\n\u001b[0;32m--> 942\u001b[0;31m             \u001b[0mX_idx_sorted\u001b[0m\u001b[0;34m=\u001b[0m\u001b[0mX_idx_sorted\u001b[0m\u001b[0;34m,\u001b[0m\u001b[0;34m\u001b[0m\u001b[0;34m\u001b[0m\u001b[0m\n\u001b[0m\u001b[1;32m    943\u001b[0m         )\n\u001b[1;32m    944\u001b[0m         \u001b[0;32mreturn\u001b[0m \u001b[0mself\u001b[0m\u001b[0;34m\u001b[0m\u001b[0;34m\u001b[0m\u001b[0m\n",
      "\u001b[0;32m/usr/local/lib/python3.7/dist-packages/sklearn/tree/_classes.py\u001b[0m in \u001b[0;36mfit\u001b[0;34m(self, X, y, sample_weight, check_input, X_idx_sorted)\u001b[0m\n\u001b[1;32m    164\u001b[0m             \u001b[0mcheck_y_params\u001b[0m \u001b[0;34m=\u001b[0m \u001b[0mdict\u001b[0m\u001b[0;34m(\u001b[0m\u001b[0mensure_2d\u001b[0m\u001b[0;34m=\u001b[0m\u001b[0;32mFalse\u001b[0m\u001b[0;34m,\u001b[0m \u001b[0mdtype\u001b[0m\u001b[0;34m=\u001b[0m\u001b[0;32mNone\u001b[0m\u001b[0;34m)\u001b[0m\u001b[0;34m\u001b[0m\u001b[0;34m\u001b[0m\u001b[0m\n\u001b[1;32m    165\u001b[0m             X, y = self._validate_data(\n\u001b[0;32m--> 166\u001b[0;31m                 \u001b[0mX\u001b[0m\u001b[0;34m,\u001b[0m \u001b[0my\u001b[0m\u001b[0;34m,\u001b[0m \u001b[0mvalidate_separately\u001b[0m\u001b[0;34m=\u001b[0m\u001b[0;34m(\u001b[0m\u001b[0mcheck_X_params\u001b[0m\u001b[0;34m,\u001b[0m \u001b[0mcheck_y_params\u001b[0m\u001b[0;34m)\u001b[0m\u001b[0;34m\u001b[0m\u001b[0;34m\u001b[0m\u001b[0m\n\u001b[0m\u001b[1;32m    167\u001b[0m             )\n\u001b[1;32m    168\u001b[0m             \u001b[0;32mif\u001b[0m \u001b[0missparse\u001b[0m\u001b[0;34m(\u001b[0m\u001b[0mX\u001b[0m\u001b[0;34m)\u001b[0m\u001b[0;34m:\u001b[0m\u001b[0;34m\u001b[0m\u001b[0;34m\u001b[0m\u001b[0m\n",
      "\u001b[0;32m/usr/local/lib/python3.7/dist-packages/sklearn/base.py\u001b[0m in \u001b[0;36m_validate_data\u001b[0;34m(self, X, y, reset, validate_separately, **check_params)\u001b[0m\n\u001b[1;32m    571\u001b[0m                 \u001b[0;31m# :(\u001b[0m\u001b[0;34m\u001b[0m\u001b[0;34m\u001b[0m\u001b[0;34m\u001b[0m\u001b[0m\n\u001b[1;32m    572\u001b[0m                 \u001b[0mcheck_X_params\u001b[0m\u001b[0;34m,\u001b[0m \u001b[0mcheck_y_params\u001b[0m \u001b[0;34m=\u001b[0m \u001b[0mvalidate_separately\u001b[0m\u001b[0;34m\u001b[0m\u001b[0;34m\u001b[0m\u001b[0m\n\u001b[0;32m--> 573\u001b[0;31m                 \u001b[0mX\u001b[0m \u001b[0;34m=\u001b[0m \u001b[0mcheck_array\u001b[0m\u001b[0;34m(\u001b[0m\u001b[0mX\u001b[0m\u001b[0;34m,\u001b[0m \u001b[0;34m**\u001b[0m\u001b[0mcheck_X_params\u001b[0m\u001b[0;34m)\u001b[0m\u001b[0;34m\u001b[0m\u001b[0;34m\u001b[0m\u001b[0m\n\u001b[0m\u001b[1;32m    574\u001b[0m                 \u001b[0my\u001b[0m \u001b[0;34m=\u001b[0m \u001b[0mcheck_array\u001b[0m\u001b[0;34m(\u001b[0m\u001b[0my\u001b[0m\u001b[0;34m,\u001b[0m \u001b[0;34m**\u001b[0m\u001b[0mcheck_y_params\u001b[0m\u001b[0;34m)\u001b[0m\u001b[0;34m\u001b[0m\u001b[0;34m\u001b[0m\u001b[0m\n\u001b[1;32m    575\u001b[0m             \u001b[0;32melse\u001b[0m\u001b[0;34m:\u001b[0m\u001b[0;34m\u001b[0m\u001b[0;34m\u001b[0m\u001b[0m\n",
      "\u001b[0;32m/usr/local/lib/python3.7/dist-packages/sklearn/utils/validation.py\u001b[0m in \u001b[0;36mcheck_array\u001b[0;34m(array, accept_sparse, accept_large_sparse, dtype, order, copy, force_all_finite, ensure_2d, allow_nd, ensure_min_samples, ensure_min_features, estimator)\u001b[0m\n\u001b[1;32m    736\u001b[0m                     \u001b[0marray\u001b[0m \u001b[0;34m=\u001b[0m \u001b[0marray\u001b[0m\u001b[0;34m.\u001b[0m\u001b[0mastype\u001b[0m\u001b[0;34m(\u001b[0m\u001b[0mdtype\u001b[0m\u001b[0;34m,\u001b[0m \u001b[0mcasting\u001b[0m\u001b[0;34m=\u001b[0m\u001b[0;34m\"unsafe\"\u001b[0m\u001b[0;34m,\u001b[0m \u001b[0mcopy\u001b[0m\u001b[0;34m=\u001b[0m\u001b[0;32mFalse\u001b[0m\u001b[0;34m)\u001b[0m\u001b[0;34m\u001b[0m\u001b[0;34m\u001b[0m\u001b[0m\n\u001b[1;32m    737\u001b[0m                 \u001b[0;32melse\u001b[0m\u001b[0;34m:\u001b[0m\u001b[0;34m\u001b[0m\u001b[0;34m\u001b[0m\u001b[0m\n\u001b[0;32m--> 738\u001b[0;31m                     \u001b[0marray\u001b[0m \u001b[0;34m=\u001b[0m \u001b[0mnp\u001b[0m\u001b[0;34m.\u001b[0m\u001b[0masarray\u001b[0m\u001b[0;34m(\u001b[0m\u001b[0marray\u001b[0m\u001b[0;34m,\u001b[0m \u001b[0morder\u001b[0m\u001b[0;34m=\u001b[0m\u001b[0morder\u001b[0m\u001b[0;34m,\u001b[0m \u001b[0mdtype\u001b[0m\u001b[0;34m=\u001b[0m\u001b[0mdtype\u001b[0m\u001b[0;34m)\u001b[0m\u001b[0;34m\u001b[0m\u001b[0;34m\u001b[0m\u001b[0m\n\u001b[0m\u001b[1;32m    739\u001b[0m             \u001b[0;32mexcept\u001b[0m \u001b[0mComplexWarning\u001b[0m \u001b[0;32mas\u001b[0m \u001b[0mcomplex_warning\u001b[0m\u001b[0;34m:\u001b[0m\u001b[0;34m\u001b[0m\u001b[0;34m\u001b[0m\u001b[0m\n\u001b[1;32m    740\u001b[0m                 raise ValueError(\n",
      "\u001b[0;32m/usr/local/lib/python3.7/dist-packages/numpy/core/_asarray.py\u001b[0m in \u001b[0;36masarray\u001b[0;34m(a, dtype, order)\u001b[0m\n\u001b[1;32m     81\u001b[0m \u001b[0;34m\u001b[0m\u001b[0m\n\u001b[1;32m     82\u001b[0m     \"\"\"\n\u001b[0;32m---> 83\u001b[0;31m     \u001b[0;32mreturn\u001b[0m \u001b[0marray\u001b[0m\u001b[0;34m(\u001b[0m\u001b[0ma\u001b[0m\u001b[0;34m,\u001b[0m \u001b[0mdtype\u001b[0m\u001b[0;34m,\u001b[0m \u001b[0mcopy\u001b[0m\u001b[0;34m=\u001b[0m\u001b[0;32mFalse\u001b[0m\u001b[0;34m,\u001b[0m \u001b[0morder\u001b[0m\u001b[0;34m=\u001b[0m\u001b[0morder\u001b[0m\u001b[0;34m)\u001b[0m\u001b[0;34m\u001b[0m\u001b[0;34m\u001b[0m\u001b[0m\n\u001b[0m\u001b[1;32m     84\u001b[0m \u001b[0;34m\u001b[0m\u001b[0m\n\u001b[1;32m     85\u001b[0m \u001b[0;34m\u001b[0m\u001b[0m\n",
      "\u001b[0;31mValueError\u001b[0m: could not convert string to float: '2020-12-03 19:57:19'"
     ]
    }
   ],
   "source": [
    "# Applying Classification Algorithms\n",
    "# 1. Decision Tree\n",
    "from sklearn.tree import DecisionTreeClassifier\n",
    "\n",
    "tree_model = DecisionTreeClassifier(max_depth = 4, criterion = 'entropy')\n",
    "tree_model.fit(X_train, Y_train)\n",
    "tree_Yhat = tree_model.predict(X_test)"
   ]
  },
  {
   "cell_type": "code",
   "execution_count": null,
   "metadata": {
    "id": "y4j7lx8qF-hP"
   },
   "outputs": [],
   "source": [
    "# 2. K-Nearest Neighbors\n",
    "from sklearn.neighbors import KNeighborsClassifier\n",
    "\n",
    "n = 10\n",
    "\n",
    "knn = KNeighborsClassifier(n_neighbors = n)\n",
    "knn.fit(X_train, Y_train)\n",
    "knn_Yhat = knn.predict(X_test)"
   ]
  },
  {
   "cell_type": "code",
   "execution_count": null,
   "metadata": {
    "id": "772W7qKqGQiw"
   },
   "outputs": [],
   "source": [
    "# 3. Logistic Regression\n",
    "from sklearn.linear_model import LogisticRegression \n",
    "\n",
    "lr = LogisticRegression(max_iter=10000)\n",
    "lr.fit(X_train, Y_train)\n",
    "lr_Yhat = lr.predict(X_test)"
   ]
  },
  {
   "cell_type": "code",
   "execution_count": null,
   "metadata": {
    "id": "4K_pNg4dGTWV"
   },
   "outputs": [],
   "source": [
    "# 4. SVM\n",
    "from sklearn.svm import SVC \n",
    "\n",
    "svm = SVC()\n",
    "svm.fit(X_train, Y_train)\n",
    "svm_Yhat = svm.predict(X_test)"
   ]
  },
  {
   "cell_type": "code",
   "execution_count": null,
   "metadata": {
    "id": "-jBnbv1-7Uux"
   },
   "outputs": [],
   "source": [
    "#Deep neural network\n",
    "from keras.models import Sequential\n",
    "from keras.layers import Dense\n",
    "from keras.layers import Dropout\n",
    "\n",
    "DNN = Sequential([\n",
    "Dense(input_dim = 29, units = 16, activation = 'relu'),\n",
    "Dense(units = 24, activation = 'relu'),\n",
    "Dropout(0.5),\n",
    "Dense(units = 20, activation = 'relu'),\n",
    "Dense(units = 24, activation = 'relu'),\n",
    "Dense(units =1, activation = 'sigmoid'),])\n",
    "\n",
    "DNN.compile(optimizer='adam', loss='binary_crossentropy', metrics=['accuracy'])\n",
    "DNN.fit(X_train, Y_train, batch_size=15, epochs=5)\n",
    "\n",
    "#Neural Network prediction\n",
    "DNN_Yhat = (DNN.predict(X_test) > 0.5).astype(\"int32\")"
   ]
  },
  {
   "cell_type": "code",
   "execution_count": null,
   "metadata": {
    "colab": {
     "base_uri": "https://localhost:8080/"
    },
    "id": "pt13JCkZJXSB",
    "outputId": "e252934b-905e-426d-e166-0f124798e84e"
   },
   "outputs": [
    {
     "name": "stdout",
     "output_type": "stream",
     "text": [
      "\u001b[1mACCURACY SCORE\u001b[0m\n",
      "--------------------------------------------------------------\n",
      "Decision tree model accuracy is 0.9993679997191109\n",
      "KNN model accuracy is 0.9992451107756047\n",
      "Logistic Regression model accuracy is 0.9991924440855307\n",
      "SVM model accuracy is 0.998735999438222\n"
     ]
    }
   ],
   "source": [
    "# Accuracy score = No.of correct predictions / Total no.of predictions\n",
    "from sklearn.metrics import accuracy_score\n",
    "print(cl('ACCURACY SCORE', attrs = ['bold']))\n",
    "print('--------------------------------------------------------------')\n",
    "print('Decision tree model accuracy is {}'.format(accuracy_score(Y_test, tree_Yhat)))\n",
    "print('KNN model accuracy is {}'.format(accuracy_score(Y_test, knn_Yhat)))\n",
    "print(\"Logistic Regression model accuracy is {}\".format(accuracy_score(Y_test, lr_Yhat)))\n",
    "print('SVM model accuracy is {}'.format(accuracy_score(Y_test, svm_Yhat)))"
   ]
  },
  {
   "cell_type": "code",
   "execution_count": null,
   "metadata": {
    "colab": {
     "base_uri": "https://localhost:8080/"
    },
    "id": "TBYlW3EDJmI4",
    "outputId": "9912de56-e8a9-4787-ecf6-4b341a1fce9f"
   },
   "outputs": [
    {
     "name": "stdout",
     "output_type": "stream",
     "text": [
      "\u001b[1mPRECISION SCORE\u001b[0m\n",
      "--------------------------------------------------------------\n",
      "Decision tree model precision score is 0.8651685393258427\n",
      "KNN model precision score is 0.9142857142857143\n",
      "Logistic Regression model precision score is 0.8767123287671232\n",
      "SVM model precision score is 0.8372093023255814\n"
     ]
    }
   ],
   "source": [
    "#precision score\n",
    "from sklearn.metrics import precision_score\n",
    "print(cl('PRECISION SCORE', attrs = ['bold']))\n",
    "print('--------------------------------------------------------------')\n",
    "print('Decision tree model precision score is {}'.format(precision_score(Y_test, tree_Yhat)))\n",
    "print('KNN model precision score is {}'.format(precision_score(Y_test, knn_Yhat)))\n",
    "print('Logistic Regression model precision score is {}'.format(precision_score(Y_test, lr_Yhat)))\n",
    "print('SVM model precision score is {}'.format(precision_score(Y_test, svm_Yhat)))\n"
   ]
  },
  {
   "cell_type": "code",
   "execution_count": null,
   "metadata": {
    "colab": {
     "base_uri": "https://localhost:8080/"
    },
    "id": "GVqhQW18J1i2",
    "outputId": "d535a830-717b-4978-eaf5-8653c0a4dc33"
   },
   "outputs": [
    {
     "name": "stdout",
     "output_type": "stream",
     "text": [
      "\u001b[1mRECALL SCORE\u001b[0m\n",
      "--------------------------------------------------------------\n",
      "Decision tree recall is 0.7623762376237624\n",
      "KNN model recall is 0.6336633663366337\n",
      "Logistic Regression model recall is 0.6336633663366337\n",
      "SVM model recall is 0.3564356435643564\n"
     ]
    }
   ],
   "source": [
    "#recall score\n",
    "from sklearn.metrics import recall_score\n",
    "print(cl('RECALL SCORE', attrs = ['bold']))\n",
    "print('--------------------------------------------------------------')\n",
    "print('Decision tree recall is {}'.format(recall_score(Y_test, tree_Yhat)))\n",
    "print('KNN model recall is {}'.format(recall_score(Y_test, knn_Yhat)))\n",
    "print('Logistic Regression model recall is {}'.format(recall_score(Y_test, lr_Yhat)))\n",
    "print('SVM model recall is {}'.format(recall_score(Y_test, svm_Yhat)))"
   ]
  },
  {
   "cell_type": "code",
   "execution_count": null,
   "metadata": {
    "colab": {
     "base_uri": "https://localhost:8080/"
    },
    "id": "ZT9uz1PdJ76A",
    "outputId": "b2d2ef62-1b63-4ba9-b3cb-51eac0263d31"
   },
   "outputs": [
    {
     "name": "stdout",
     "output_type": "stream",
     "text": [
      "\u001b[1mF1 SCORE\u001b[0m\n",
      "--------------------------------------------------------------\n",
      "Decision tree f1 score is 0.8105263157894738\n",
      "KNN model f1 score is 0.7485380116959064\n",
      "Logistic Regression model f1 score is 0.7356321839080459\n",
      "SVM model f1 score is 0.5\n"
     ]
    }
   ],
   "source": [
    "# F1 score = 2( (precision * recall) / (precision + recall) )\n",
    "from sklearn.metrics import f1_score\n",
    "print(cl('F1 SCORE', attrs = ['bold']))\n",
    "print('--------------------------------------------------------------')\n",
    "print('Decision tree f1 score is {}'.format(f1_score(Y_test, tree_Yhat)))\n",
    "print('KNN model f1 score is {}'.format(f1_score(Y_test, knn_Yhat)))\n",
    "print('Logistic Regression model f1 score is {}'.format(f1_score(Y_test, lr_Yhat)))\n",
    "print('SVM model f1 score is {}'.format(f1_score(Y_test, svm_Yhat)))"
   ]
  }
 ],
 "metadata": {
  "colab": {
   "collapsed_sections": [],
   "name": "Shared Project-Credit Card.ipynb",
   "provenance": []
  },
  "kernelspec": {
   "display_name": "Python 3 (ipykernel)",
   "language": "python",
   "name": "python3"
  },
  "language_info": {
   "codemirror_mode": {
    "name": "ipython",
    "version": 3
   },
   "file_extension": ".py",
   "mimetype": "text/x-python",
   "name": "python",
   "nbconvert_exporter": "python",
   "pygments_lexer": "ipython3",
   "version": "3.9.6"
  }
 },
 "nbformat": 4,
 "nbformat_minor": 1
}
